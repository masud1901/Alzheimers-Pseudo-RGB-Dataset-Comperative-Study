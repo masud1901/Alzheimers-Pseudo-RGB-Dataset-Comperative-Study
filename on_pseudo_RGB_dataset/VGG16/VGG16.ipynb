{
 "cells": [
  {
   "cell_type": "markdown",
   "id": "de656e26",
   "metadata": {
    "papermill": {
     "duration": 0.012095,
     "end_time": "2024-07-29T15:43:33.139819",
     "exception": false,
     "start_time": "2024-07-29T15:43:33.127724",
     "status": "completed"
    },
    "tags": []
   },
   "source": [
    "# Data Collection and Acquisation"
   ]
  },
  {
   "cell_type": "code",
   "execution_count": 1,
   "id": "3383c4b5",
   "metadata": {
    "execution": {
     "iopub.execute_input": "2024-07-29T15:43:33.165055Z",
     "iopub.status.busy": "2024-07-29T15:43:33.164712Z",
     "iopub.status.idle": "2024-07-29T15:43:47.142755Z",
     "shell.execute_reply": "2024-07-29T15:43:47.141552Z"
    },
    "papermill": {
     "duration": 13.993521,
     "end_time": "2024-07-29T15:43:47.145217",
     "exception": false,
     "start_time": "2024-07-29T15:43:33.151696",
     "status": "completed"
    },
    "tags": []
   },
   "outputs": [
    {
     "name": "stdout",
     "output_type": "stream",
     "text": [
      "Collecting split-folders\r\n",
      "  Downloading split_folders-0.5.1-py3-none-any.whl.metadata (6.2 kB)\r\n",
      "Downloading split_folders-0.5.1-py3-none-any.whl (8.4 kB)\r\n",
      "Installing collected packages: split-folders\r\n",
      "Successfully installed split-folders-0.5.1\r\n"
     ]
    }
   ],
   "source": [
    "!pip install split-folders"
   ]
  },
  {
   "cell_type": "code",
   "execution_count": 2,
   "id": "13bd9189",
   "metadata": {
    "execution": {
     "iopub.execute_input": "2024-07-29T15:43:47.172702Z",
     "iopub.status.busy": "2024-07-29T15:43:47.172325Z",
     "iopub.status.idle": "2024-07-29T15:44:48.274733Z",
     "shell.execute_reply": "2024-07-29T15:44:48.273796Z"
    },
    "papermill": {
     "duration": 61.118795,
     "end_time": "2024-07-29T15:44:48.277132",
     "exception": false,
     "start_time": "2024-07-29T15:43:47.158337",
     "status": "completed"
    },
    "tags": []
   },
   "outputs": [
    {
     "name": "stderr",
     "output_type": "stream",
     "text": [
      "Copying files: 8000 files [01:01, 131.02 files/s]\n"
     ]
    }
   ],
   "source": [
    "import splitfolders\n",
    "\n",
    "# Path to your dataset\n",
    "input_folder = '/kaggle/input/alzheimers-synthesized-dataset/dataset/pseudoRGB_dataset'\n",
    "\n",
    "# Output folder\n",
    "output_folder = './Dataset'\n",
    "\n",
    "# Split the dataset (train: 80%, val: 10%, test: 10%)\n",
    "splitfolders.ratio(input_folder, output=output_folder, seed=1337, ratio=(.8, .1, .1))"
   ]
  },
  {
   "cell_type": "code",
   "execution_count": 3,
   "id": "11e829a5",
   "metadata": {
    "execution": {
     "iopub.execute_input": "2024-07-29T15:44:48.367422Z",
     "iopub.status.busy": "2024-07-29T15:44:48.367091Z",
     "iopub.status.idle": "2024-07-29T15:45:02.005878Z",
     "shell.execute_reply": "2024-07-29T15:45:02.004973Z"
    },
    "id": "pUz1xFZ9nN0T",
    "papermill": {
     "duration": 13.686042,
     "end_time": "2024-07-29T15:45:02.008206",
     "exception": false,
     "start_time": "2024-07-29T15:44:48.322164",
     "status": "completed"
    },
    "tags": []
   },
   "outputs": [
    {
     "name": "stderr",
     "output_type": "stream",
     "text": [
      "2024-07-29 15:44:50.090857: E external/local_xla/xla/stream_executor/cuda/cuda_dnn.cc:9261] Unable to register cuDNN factory: Attempting to register factory for plugin cuDNN when one has already been registered\n",
      "2024-07-29 15:44:50.090990: E external/local_xla/xla/stream_executor/cuda/cuda_fft.cc:607] Unable to register cuFFT factory: Attempting to register factory for plugin cuFFT when one has already been registered\n",
      "2024-07-29 15:44:50.211942: E external/local_xla/xla/stream_executor/cuda/cuda_blas.cc:1515] Unable to register cuBLAS factory: Attempting to register factory for plugin cuBLAS when one has already been registered\n"
     ]
    }
   ],
   "source": [
    "import tensorflow as tf\n",
    "import numpy as np\n",
    "import matplotlib.pyplot as plt\n",
    "from glob import glob\n",
    "import seaborn as sns\n",
    "from tensorflow import keras\n",
    "from sklearn.metrics import confusion_matrix\n",
    "from keras.layers import Input,Lambda,Dense,Flatten,BatchNormalization,Dropout\n",
    "from keras import Model\n",
    "from keras.preprocessing import image\n",
    "from tensorflow.keras.preprocessing.image import ImageDataGenerator\n",
    "from keras.callbacks import TensorBoard\n",
    "import datetime"
   ]
  },
  {
   "cell_type": "code",
   "execution_count": 4,
   "id": "67049624",
   "metadata": {
    "execution": {
     "iopub.execute_input": "2024-07-29T15:45:02.099673Z",
     "iopub.status.busy": "2024-07-29T15:45:02.099109Z",
     "iopub.status.idle": "2024-07-29T15:45:02.103888Z",
     "shell.execute_reply": "2024-07-29T15:45:02.103075Z"
    },
    "id": "Yf7fwQK0wLE1",
    "papermill": {
     "duration": 0.052024,
     "end_time": "2024-07-29T15:45:02.105696",
     "exception": false,
     "start_time": "2024-07-29T15:45:02.053672",
     "status": "completed"
    },
    "tags": []
   },
   "outputs": [],
   "source": [
    "#re-sizing all images to this size\n",
    "IMAGE_SIZE = [128,128]\n",
    "\n",
    "#training config\n",
    "epochs = 200\n",
    "batch_size = 32"
   ]
  },
  {
   "cell_type": "code",
   "execution_count": 5,
   "id": "1282bf1c",
   "metadata": {
    "execution": {
     "iopub.execute_input": "2024-07-29T15:45:02.196254Z",
     "iopub.status.busy": "2024-07-29T15:45:02.195960Z",
     "iopub.status.idle": "2024-07-29T15:45:02.221139Z",
     "shell.execute_reply": "2024-07-29T15:45:02.220403Z"
    },
    "id": "53ztSvsrwbat",
    "papermill": {
     "duration": 0.073235,
     "end_time": "2024-07-29T15:45:02.223074",
     "exception": false,
     "start_time": "2024-07-29T15:45:02.149839",
     "status": "completed"
    },
    "tags": []
   },
   "outputs": [],
   "source": [
    "train_path = './Dataset/train'\n",
    "val_path = './Dataset/val'\n",
    "test_path = './Dataset/test'\n",
    "\n",
    "# useful for getting the number of files\n",
    "image_files = glob(train_path + '/*/*.jp*g')\n",
    "val_image_files = glob(val_path + '/*/*.jp*g')\n",
    "test_image_files = glob(test_path + '/*/*.jp*g')\n",
    "\n",
    "# useful for getting number of classes\n",
    "folders = glob(train_path + '/*')\n",
    "num_classes = len(folders)"
   ]
  },
  {
   "cell_type": "code",
   "execution_count": 6,
   "id": "e0fee42b",
   "metadata": {
    "execution": {
     "iopub.execute_input": "2024-07-29T15:45:02.312829Z",
     "iopub.status.busy": "2024-07-29T15:45:02.312058Z",
     "iopub.status.idle": "2024-07-29T15:45:02.804158Z",
     "shell.execute_reply": "2024-07-29T15:45:02.803293Z"
    },
    "papermill": {
     "duration": 0.539297,
     "end_time": "2024-07-29T15:45:02.806255",
     "exception": false,
     "start_time": "2024-07-29T15:45:02.266958",
     "status": "completed"
    },
    "tags": []
   },
   "outputs": [
    {
     "name": "stdout",
     "output_type": "stream",
     "text": [
      "Found 6400 images belonging to 4 classes.\n",
      "Found 800 images belonging to 4 classes.\n",
      "Found 800 images belonging to 4 classes.\n"
     ]
    }
   ],
   "source": [
    "train_gen = ImageDataGenerator(\n",
    "    rescale=1./255,\n",
    "#     rotation_range=20,\n",
    "    width_shift_range=0.1,\n",
    "    height_shift_range=0.1,\n",
    "    shear_range=0.1,\n",
    "    zoom_range=0.1,\n",
    "    horizontal_flip=True,\n",
    "    fill_mode='nearest'\n",
    ")\n",
    "\n",
    "\n",
    "val_gen = ImageDataGenerator(\n",
    " rescale=1./255,\n",
    ")\n",
    "\n",
    "test_gen = ImageDataGenerator(\n",
    "     rescale=1./255,\n",
    ")\n",
    "\n",
    "#create generator\n",
    "\n",
    "train_generator = train_gen.flow_from_directory(\n",
    "    train_path,\n",
    "    target_size = IMAGE_SIZE,\n",
    "    shuffle = True,\n",
    "    batch_size = batch_size\n",
    ")\n",
    "\n",
    "val_generator = val_gen.flow_from_directory(\n",
    "    val_path,\n",
    "    target_size = IMAGE_SIZE,\n",
    "    shuffle = True,\n",
    "    batch_size = batch_size\n",
    ")\n",
    "\n",
    "test_generator = test_gen.flow_from_directory(\n",
    "    test_path,\n",
    "    target_size = IMAGE_SIZE,\n",
    "    shuffle = True,\n",
    "    batch_size = batch_size\n",
    ")"
   ]
  },
  {
   "cell_type": "markdown",
   "id": "341ed6eb",
   "metadata": {
    "id": "nM8h0_KvTONQ",
    "papermill": {
     "duration": 0.044663,
     "end_time": "2024-07-29T15:45:02.897463",
     "exception": false,
     "start_time": "2024-07-29T15:45:02.852800",
     "status": "completed"
    },
    "tags": []
   },
   "source": [
    "# Modelling"
   ]
  },
  {
   "cell_type": "code",
   "execution_count": 7,
   "id": "925f5a23",
   "metadata": {
    "execution": {
     "iopub.execute_input": "2024-07-29T15:45:02.987537Z",
     "iopub.status.busy": "2024-07-29T15:45:02.986845Z",
     "iopub.status.idle": "2024-07-29T15:45:03.006471Z",
     "shell.execute_reply": "2024-07-29T15:45:03.005720Z"
    },
    "id": "KGn6OfghTD-b",
    "papermill": {
     "duration": 0.067061,
     "end_time": "2024-07-29T15:45:03.008471",
     "exception": false,
     "start_time": "2024-07-29T15:45:02.941410",
     "status": "completed"
    },
    "tags": []
   },
   "outputs": [],
   "source": [
    "import tensorflow as tf\n",
    "from tensorflow.keras.applications import VGG16, ResNet50, Xception, InceptionV3, MobileNetV2, DenseNet121\n",
    "from tensorflow.keras.applications.efficientnet import EfficientNetB0\n",
    "from tensorflow.keras.layers import Flatten, Dense, Dropout, BatchNormalization\n",
    "from tensorflow.keras.models import Model\n",
    "\n",
    "class ModelZoo:\n",
    "    def __init__(self):\n",
    "        self.models = {\n",
    "            'VGG16': VGG16,\n",
    "            'ResNet50': ResNet50,\n",
    "            'Xception': Xception,\n",
    "            'InceptionV3': InceptionV3,\n",
    "            'MobileNetV2': MobileNetV2,\n",
    "            'DenseNet121': DenseNet121,\n",
    "            'EfficientNetB0': EfficientNetB0\n",
    "        }\n",
    "\n",
    "    def load_model(self, model_name):\n",
    "        if model_name not in self.models:\n",
    "            raise ValueError(f\"Model {model_name} not found in model zoo. Available models: {list(self.models.keys())}\")\n",
    "        return self.models[model_name](input_shape=IMAGE_SIZE + [3], weights='imagenet', include_top=False)\n",
    "\n",
    "def create_custom_model(model_name, num_layers_to_train, num_classes, num_dense_units=(64, 16), dropout_rate=0.2, optimizer='adam'):\n",
    "    \"\"\"\n",
    "    Create a custom model based on the specified base model and other parameters.\n",
    "    \"\"\"\n",
    "    model_zoo = ModelZoo()\n",
    "    base_model = model_zoo.load_model(model_name)\n",
    "\n",
    "    # Freeze layers\n",
    "    for layer in base_model.layers:\n",
    "        layer.trainable = False\n",
    "\n",
    "    # Set the last num_layers_to_train layers to be trainable\n",
    "    for layer in base_model.layers[-num_layers_to_train:]:\n",
    "        layer.trainable = True\n",
    "\n",
    "    # Flatten the output of the base model\n",
    "    x = Flatten()(base_model.output)\n",
    "\n",
    "    # Add dense layers\n",
    "    for units in num_dense_units:\n",
    "        x = Dense(units, activation='relu', kernel_initializer='he_uniform')(x)\n",
    "        x = BatchNormalization()(x)\n",
    "        x = Dropout(dropout_rate)(x)\n",
    "\n",
    "    # Final prediction layer\n",
    "    prediction = Dense(num_classes, activation='softmax', kernel_initializer='glorot_uniform')(x)\n",
    "\n",
    "    # Create the final model\n",
    "    custom_model = Model(inputs=base_model.input, outputs=prediction)\n",
    "\n",
    "    custom_model.compile(\n",
    "        loss='categorical_crossentropy',\n",
    "        optimizer=optimizer,\n",
    "        metrics=['accuracy']\n",
    "    )\n",
    "\n",
    "    return custom_model"
   ]
  },
  {
   "cell_type": "code",
   "execution_count": 8,
   "id": "a71145e4",
   "metadata": {
    "execution": {
     "iopub.execute_input": "2024-07-29T15:45:03.098840Z",
     "iopub.status.busy": "2024-07-29T15:45:03.098563Z",
     "iopub.status.idle": "2024-07-29T15:45:04.906838Z",
     "shell.execute_reply": "2024-07-29T15:45:04.905944Z"
    },
    "papermill": {
     "duration": 1.85626,
     "end_time": "2024-07-29T15:45:04.908978",
     "exception": false,
     "start_time": "2024-07-29T15:45:03.052718",
     "status": "completed"
    },
    "tags": []
   },
   "outputs": [
    {
     "name": "stdout",
     "output_type": "stream",
     "text": [
      "Downloading data from https://storage.googleapis.com/tensorflow/keras-applications/vgg16/vgg16_weights_tf_dim_ordering_tf_kernels_notop.h5\n",
      "\u001b[1m58889256/58889256\u001b[0m \u001b[32m━━━━━━━━━━━━━━━━━━━━\u001b[0m\u001b[37m\u001b[0m \u001b[1m1s\u001b[0m 0us/step\n"
     ]
    },
    {
     "data": {
      "text/html": [
       "<pre style=\"white-space:pre;overflow-x:auto;line-height:normal;font-family:Menlo,'DejaVu Sans Mono',consolas,'Courier New',monospace\"><span style=\"font-weight: bold\">Model: \"functional_1\"</span>\n",
       "</pre>\n"
      ],
      "text/plain": [
       "\u001b[1mModel: \"functional_1\"\u001b[0m\n"
      ]
     },
     "metadata": {},
     "output_type": "display_data"
    },
    {
     "data": {
      "text/html": [
       "<pre style=\"white-space:pre;overflow-x:auto;line-height:normal;font-family:Menlo,'DejaVu Sans Mono',consolas,'Courier New',monospace\">┏━━━━━━━━━━━━━━━━━━━━━━━━━━━━━━━━━┳━━━━━━━━━━━━━━━━━━━━━━━━┳━━━━━━━━━━━━━━━┓\n",
       "┃<span style=\"font-weight: bold\"> Layer (type)                    </span>┃<span style=\"font-weight: bold\"> Output Shape           </span>┃<span style=\"font-weight: bold\">       Param # </span>┃\n",
       "┡━━━━━━━━━━━━━━━━━━━━━━━━━━━━━━━━━╇━━━━━━━━━━━━━━━━━━━━━━━━╇━━━━━━━━━━━━━━━┩\n",
       "│ input_layer (<span style=\"color: #0087ff; text-decoration-color: #0087ff\">InputLayer</span>)        │ (<span style=\"color: #00d7ff; text-decoration-color: #00d7ff\">None</span>, <span style=\"color: #00af00; text-decoration-color: #00af00\">128</span>, <span style=\"color: #00af00; text-decoration-color: #00af00\">128</span>, <span style=\"color: #00af00; text-decoration-color: #00af00\">3</span>)    │             <span style=\"color: #00af00; text-decoration-color: #00af00\">0</span> │\n",
       "├─────────────────────────────────┼────────────────────────┼───────────────┤\n",
       "│ block1_conv1 (<span style=\"color: #0087ff; text-decoration-color: #0087ff\">Conv2D</span>)           │ (<span style=\"color: #00d7ff; text-decoration-color: #00d7ff\">None</span>, <span style=\"color: #00af00; text-decoration-color: #00af00\">128</span>, <span style=\"color: #00af00; text-decoration-color: #00af00\">128</span>, <span style=\"color: #00af00; text-decoration-color: #00af00\">64</span>)   │         <span style=\"color: #00af00; text-decoration-color: #00af00\">1,792</span> │\n",
       "├─────────────────────────────────┼────────────────────────┼───────────────┤\n",
       "│ block1_conv2 (<span style=\"color: #0087ff; text-decoration-color: #0087ff\">Conv2D</span>)           │ (<span style=\"color: #00d7ff; text-decoration-color: #00d7ff\">None</span>, <span style=\"color: #00af00; text-decoration-color: #00af00\">128</span>, <span style=\"color: #00af00; text-decoration-color: #00af00\">128</span>, <span style=\"color: #00af00; text-decoration-color: #00af00\">64</span>)   │        <span style=\"color: #00af00; text-decoration-color: #00af00\">36,928</span> │\n",
       "├─────────────────────────────────┼────────────────────────┼───────────────┤\n",
       "│ block1_pool (<span style=\"color: #0087ff; text-decoration-color: #0087ff\">MaxPooling2D</span>)      │ (<span style=\"color: #00d7ff; text-decoration-color: #00d7ff\">None</span>, <span style=\"color: #00af00; text-decoration-color: #00af00\">64</span>, <span style=\"color: #00af00; text-decoration-color: #00af00\">64</span>, <span style=\"color: #00af00; text-decoration-color: #00af00\">64</span>)     │             <span style=\"color: #00af00; text-decoration-color: #00af00\">0</span> │\n",
       "├─────────────────────────────────┼────────────────────────┼───────────────┤\n",
       "│ block2_conv1 (<span style=\"color: #0087ff; text-decoration-color: #0087ff\">Conv2D</span>)           │ (<span style=\"color: #00d7ff; text-decoration-color: #00d7ff\">None</span>, <span style=\"color: #00af00; text-decoration-color: #00af00\">64</span>, <span style=\"color: #00af00; text-decoration-color: #00af00\">64</span>, <span style=\"color: #00af00; text-decoration-color: #00af00\">128</span>)    │        <span style=\"color: #00af00; text-decoration-color: #00af00\">73,856</span> │\n",
       "├─────────────────────────────────┼────────────────────────┼───────────────┤\n",
       "│ block2_conv2 (<span style=\"color: #0087ff; text-decoration-color: #0087ff\">Conv2D</span>)           │ (<span style=\"color: #00d7ff; text-decoration-color: #00d7ff\">None</span>, <span style=\"color: #00af00; text-decoration-color: #00af00\">64</span>, <span style=\"color: #00af00; text-decoration-color: #00af00\">64</span>, <span style=\"color: #00af00; text-decoration-color: #00af00\">128</span>)    │       <span style=\"color: #00af00; text-decoration-color: #00af00\">147,584</span> │\n",
       "├─────────────────────────────────┼────────────────────────┼───────────────┤\n",
       "│ block2_pool (<span style=\"color: #0087ff; text-decoration-color: #0087ff\">MaxPooling2D</span>)      │ (<span style=\"color: #00d7ff; text-decoration-color: #00d7ff\">None</span>, <span style=\"color: #00af00; text-decoration-color: #00af00\">32</span>, <span style=\"color: #00af00; text-decoration-color: #00af00\">32</span>, <span style=\"color: #00af00; text-decoration-color: #00af00\">128</span>)    │             <span style=\"color: #00af00; text-decoration-color: #00af00\">0</span> │\n",
       "├─────────────────────────────────┼────────────────────────┼───────────────┤\n",
       "│ block3_conv1 (<span style=\"color: #0087ff; text-decoration-color: #0087ff\">Conv2D</span>)           │ (<span style=\"color: #00d7ff; text-decoration-color: #00d7ff\">None</span>, <span style=\"color: #00af00; text-decoration-color: #00af00\">32</span>, <span style=\"color: #00af00; text-decoration-color: #00af00\">32</span>, <span style=\"color: #00af00; text-decoration-color: #00af00\">256</span>)    │       <span style=\"color: #00af00; text-decoration-color: #00af00\">295,168</span> │\n",
       "├─────────────────────────────────┼────────────────────────┼───────────────┤\n",
       "│ block3_conv2 (<span style=\"color: #0087ff; text-decoration-color: #0087ff\">Conv2D</span>)           │ (<span style=\"color: #00d7ff; text-decoration-color: #00d7ff\">None</span>, <span style=\"color: #00af00; text-decoration-color: #00af00\">32</span>, <span style=\"color: #00af00; text-decoration-color: #00af00\">32</span>, <span style=\"color: #00af00; text-decoration-color: #00af00\">256</span>)    │       <span style=\"color: #00af00; text-decoration-color: #00af00\">590,080</span> │\n",
       "├─────────────────────────────────┼────────────────────────┼───────────────┤\n",
       "│ block3_conv3 (<span style=\"color: #0087ff; text-decoration-color: #0087ff\">Conv2D</span>)           │ (<span style=\"color: #00d7ff; text-decoration-color: #00d7ff\">None</span>, <span style=\"color: #00af00; text-decoration-color: #00af00\">32</span>, <span style=\"color: #00af00; text-decoration-color: #00af00\">32</span>, <span style=\"color: #00af00; text-decoration-color: #00af00\">256</span>)    │       <span style=\"color: #00af00; text-decoration-color: #00af00\">590,080</span> │\n",
       "├─────────────────────────────────┼────────────────────────┼───────────────┤\n",
       "│ block3_pool (<span style=\"color: #0087ff; text-decoration-color: #0087ff\">MaxPooling2D</span>)      │ (<span style=\"color: #00d7ff; text-decoration-color: #00d7ff\">None</span>, <span style=\"color: #00af00; text-decoration-color: #00af00\">16</span>, <span style=\"color: #00af00; text-decoration-color: #00af00\">16</span>, <span style=\"color: #00af00; text-decoration-color: #00af00\">256</span>)    │             <span style=\"color: #00af00; text-decoration-color: #00af00\">0</span> │\n",
       "├─────────────────────────────────┼────────────────────────┼───────────────┤\n",
       "│ block4_conv1 (<span style=\"color: #0087ff; text-decoration-color: #0087ff\">Conv2D</span>)           │ (<span style=\"color: #00d7ff; text-decoration-color: #00d7ff\">None</span>, <span style=\"color: #00af00; text-decoration-color: #00af00\">16</span>, <span style=\"color: #00af00; text-decoration-color: #00af00\">16</span>, <span style=\"color: #00af00; text-decoration-color: #00af00\">512</span>)    │     <span style=\"color: #00af00; text-decoration-color: #00af00\">1,180,160</span> │\n",
       "├─────────────────────────────────┼────────────────────────┼───────────────┤\n",
       "│ block4_conv2 (<span style=\"color: #0087ff; text-decoration-color: #0087ff\">Conv2D</span>)           │ (<span style=\"color: #00d7ff; text-decoration-color: #00d7ff\">None</span>, <span style=\"color: #00af00; text-decoration-color: #00af00\">16</span>, <span style=\"color: #00af00; text-decoration-color: #00af00\">16</span>, <span style=\"color: #00af00; text-decoration-color: #00af00\">512</span>)    │     <span style=\"color: #00af00; text-decoration-color: #00af00\">2,359,808</span> │\n",
       "├─────────────────────────────────┼────────────────────────┼───────────────┤\n",
       "│ block4_conv3 (<span style=\"color: #0087ff; text-decoration-color: #0087ff\">Conv2D</span>)           │ (<span style=\"color: #00d7ff; text-decoration-color: #00d7ff\">None</span>, <span style=\"color: #00af00; text-decoration-color: #00af00\">16</span>, <span style=\"color: #00af00; text-decoration-color: #00af00\">16</span>, <span style=\"color: #00af00; text-decoration-color: #00af00\">512</span>)    │     <span style=\"color: #00af00; text-decoration-color: #00af00\">2,359,808</span> │\n",
       "├─────────────────────────────────┼────────────────────────┼───────────────┤\n",
       "│ block4_pool (<span style=\"color: #0087ff; text-decoration-color: #0087ff\">MaxPooling2D</span>)      │ (<span style=\"color: #00d7ff; text-decoration-color: #00d7ff\">None</span>, <span style=\"color: #00af00; text-decoration-color: #00af00\">8</span>, <span style=\"color: #00af00; text-decoration-color: #00af00\">8</span>, <span style=\"color: #00af00; text-decoration-color: #00af00\">512</span>)      │             <span style=\"color: #00af00; text-decoration-color: #00af00\">0</span> │\n",
       "├─────────────────────────────────┼────────────────────────┼───────────────┤\n",
       "│ block5_conv1 (<span style=\"color: #0087ff; text-decoration-color: #0087ff\">Conv2D</span>)           │ (<span style=\"color: #00d7ff; text-decoration-color: #00d7ff\">None</span>, <span style=\"color: #00af00; text-decoration-color: #00af00\">8</span>, <span style=\"color: #00af00; text-decoration-color: #00af00\">8</span>, <span style=\"color: #00af00; text-decoration-color: #00af00\">512</span>)      │     <span style=\"color: #00af00; text-decoration-color: #00af00\">2,359,808</span> │\n",
       "├─────────────────────────────────┼────────────────────────┼───────────────┤\n",
       "│ block5_conv2 (<span style=\"color: #0087ff; text-decoration-color: #0087ff\">Conv2D</span>)           │ (<span style=\"color: #00d7ff; text-decoration-color: #00d7ff\">None</span>, <span style=\"color: #00af00; text-decoration-color: #00af00\">8</span>, <span style=\"color: #00af00; text-decoration-color: #00af00\">8</span>, <span style=\"color: #00af00; text-decoration-color: #00af00\">512</span>)      │     <span style=\"color: #00af00; text-decoration-color: #00af00\">2,359,808</span> │\n",
       "├─────────────────────────────────┼────────────────────────┼───────────────┤\n",
       "│ block5_conv3 (<span style=\"color: #0087ff; text-decoration-color: #0087ff\">Conv2D</span>)           │ (<span style=\"color: #00d7ff; text-decoration-color: #00d7ff\">None</span>, <span style=\"color: #00af00; text-decoration-color: #00af00\">8</span>, <span style=\"color: #00af00; text-decoration-color: #00af00\">8</span>, <span style=\"color: #00af00; text-decoration-color: #00af00\">512</span>)      │     <span style=\"color: #00af00; text-decoration-color: #00af00\">2,359,808</span> │\n",
       "├─────────────────────────────────┼────────────────────────┼───────────────┤\n",
       "│ block5_pool (<span style=\"color: #0087ff; text-decoration-color: #0087ff\">MaxPooling2D</span>)      │ (<span style=\"color: #00d7ff; text-decoration-color: #00d7ff\">None</span>, <span style=\"color: #00af00; text-decoration-color: #00af00\">4</span>, <span style=\"color: #00af00; text-decoration-color: #00af00\">4</span>, <span style=\"color: #00af00; text-decoration-color: #00af00\">512</span>)      │             <span style=\"color: #00af00; text-decoration-color: #00af00\">0</span> │\n",
       "├─────────────────────────────────┼────────────────────────┼───────────────┤\n",
       "│ flatten (<span style=\"color: #0087ff; text-decoration-color: #0087ff\">Flatten</span>)               │ (<span style=\"color: #00d7ff; text-decoration-color: #00d7ff\">None</span>, <span style=\"color: #00af00; text-decoration-color: #00af00\">8192</span>)           │             <span style=\"color: #00af00; text-decoration-color: #00af00\">0</span> │\n",
       "├─────────────────────────────────┼────────────────────────┼───────────────┤\n",
       "│ dense (<span style=\"color: #0087ff; text-decoration-color: #0087ff\">Dense</span>)                   │ (<span style=\"color: #00d7ff; text-decoration-color: #00d7ff\">None</span>, <span style=\"color: #00af00; text-decoration-color: #00af00\">64</span>)             │       <span style=\"color: #00af00; text-decoration-color: #00af00\">524,352</span> │\n",
       "├─────────────────────────────────┼────────────────────────┼───────────────┤\n",
       "│ batch_normalization             │ (<span style=\"color: #00d7ff; text-decoration-color: #00d7ff\">None</span>, <span style=\"color: #00af00; text-decoration-color: #00af00\">64</span>)             │           <span style=\"color: #00af00; text-decoration-color: #00af00\">256</span> │\n",
       "│ (<span style=\"color: #0087ff; text-decoration-color: #0087ff\">BatchNormalization</span>)            │                        │               │\n",
       "├─────────────────────────────────┼────────────────────────┼───────────────┤\n",
       "│ dropout (<span style=\"color: #0087ff; text-decoration-color: #0087ff\">Dropout</span>)               │ (<span style=\"color: #00d7ff; text-decoration-color: #00d7ff\">None</span>, <span style=\"color: #00af00; text-decoration-color: #00af00\">64</span>)             │             <span style=\"color: #00af00; text-decoration-color: #00af00\">0</span> │\n",
       "├─────────────────────────────────┼────────────────────────┼───────────────┤\n",
       "│ dense_1 (<span style=\"color: #0087ff; text-decoration-color: #0087ff\">Dense</span>)                 │ (<span style=\"color: #00d7ff; text-decoration-color: #00d7ff\">None</span>, <span style=\"color: #00af00; text-decoration-color: #00af00\">16</span>)             │         <span style=\"color: #00af00; text-decoration-color: #00af00\">1,040</span> │\n",
       "├─────────────────────────────────┼────────────────────────┼───────────────┤\n",
       "│ batch_normalization_1           │ (<span style=\"color: #00d7ff; text-decoration-color: #00d7ff\">None</span>, <span style=\"color: #00af00; text-decoration-color: #00af00\">16</span>)             │            <span style=\"color: #00af00; text-decoration-color: #00af00\">64</span> │\n",
       "│ (<span style=\"color: #0087ff; text-decoration-color: #0087ff\">BatchNormalization</span>)            │                        │               │\n",
       "├─────────────────────────────────┼────────────────────────┼───────────────┤\n",
       "│ dropout_1 (<span style=\"color: #0087ff; text-decoration-color: #0087ff\">Dropout</span>)             │ (<span style=\"color: #00d7ff; text-decoration-color: #00d7ff\">None</span>, <span style=\"color: #00af00; text-decoration-color: #00af00\">16</span>)             │             <span style=\"color: #00af00; text-decoration-color: #00af00\">0</span> │\n",
       "├─────────────────────────────────┼────────────────────────┼───────────────┤\n",
       "│ dense_2 (<span style=\"color: #0087ff; text-decoration-color: #0087ff\">Dense</span>)                 │ (<span style=\"color: #00d7ff; text-decoration-color: #00d7ff\">None</span>, <span style=\"color: #00af00; text-decoration-color: #00af00\">4</span>)              │            <span style=\"color: #00af00; text-decoration-color: #00af00\">68</span> │\n",
       "└─────────────────────────────────┴────────────────────────┴───────────────┘\n",
       "</pre>\n"
      ],
      "text/plain": [
       "┏━━━━━━━━━━━━━━━━━━━━━━━━━━━━━━━━━┳━━━━━━━━━━━━━━━━━━━━━━━━┳━━━━━━━━━━━━━━━┓\n",
       "┃\u001b[1m \u001b[0m\u001b[1mLayer (type)                   \u001b[0m\u001b[1m \u001b[0m┃\u001b[1m \u001b[0m\u001b[1mOutput Shape          \u001b[0m\u001b[1m \u001b[0m┃\u001b[1m \u001b[0m\u001b[1m      Param #\u001b[0m\u001b[1m \u001b[0m┃\n",
       "┡━━━━━━━━━━━━━━━━━━━━━━━━━━━━━━━━━╇━━━━━━━━━━━━━━━━━━━━━━━━╇━━━━━━━━━━━━━━━┩\n",
       "│ input_layer (\u001b[38;5;33mInputLayer\u001b[0m)        │ (\u001b[38;5;45mNone\u001b[0m, \u001b[38;5;34m128\u001b[0m, \u001b[38;5;34m128\u001b[0m, \u001b[38;5;34m3\u001b[0m)    │             \u001b[38;5;34m0\u001b[0m │\n",
       "├─────────────────────────────────┼────────────────────────┼───────────────┤\n",
       "│ block1_conv1 (\u001b[38;5;33mConv2D\u001b[0m)           │ (\u001b[38;5;45mNone\u001b[0m, \u001b[38;5;34m128\u001b[0m, \u001b[38;5;34m128\u001b[0m, \u001b[38;5;34m64\u001b[0m)   │         \u001b[38;5;34m1,792\u001b[0m │\n",
       "├─────────────────────────────────┼────────────────────────┼───────────────┤\n",
       "│ block1_conv2 (\u001b[38;5;33mConv2D\u001b[0m)           │ (\u001b[38;5;45mNone\u001b[0m, \u001b[38;5;34m128\u001b[0m, \u001b[38;5;34m128\u001b[0m, \u001b[38;5;34m64\u001b[0m)   │        \u001b[38;5;34m36,928\u001b[0m │\n",
       "├─────────────────────────────────┼────────────────────────┼───────────────┤\n",
       "│ block1_pool (\u001b[38;5;33mMaxPooling2D\u001b[0m)      │ (\u001b[38;5;45mNone\u001b[0m, \u001b[38;5;34m64\u001b[0m, \u001b[38;5;34m64\u001b[0m, \u001b[38;5;34m64\u001b[0m)     │             \u001b[38;5;34m0\u001b[0m │\n",
       "├─────────────────────────────────┼────────────────────────┼───────────────┤\n",
       "│ block2_conv1 (\u001b[38;5;33mConv2D\u001b[0m)           │ (\u001b[38;5;45mNone\u001b[0m, \u001b[38;5;34m64\u001b[0m, \u001b[38;5;34m64\u001b[0m, \u001b[38;5;34m128\u001b[0m)    │        \u001b[38;5;34m73,856\u001b[0m │\n",
       "├─────────────────────────────────┼────────────────────────┼───────────────┤\n",
       "│ block2_conv2 (\u001b[38;5;33mConv2D\u001b[0m)           │ (\u001b[38;5;45mNone\u001b[0m, \u001b[38;5;34m64\u001b[0m, \u001b[38;5;34m64\u001b[0m, \u001b[38;5;34m128\u001b[0m)    │       \u001b[38;5;34m147,584\u001b[0m │\n",
       "├─────────────────────────────────┼────────────────────────┼───────────────┤\n",
       "│ block2_pool (\u001b[38;5;33mMaxPooling2D\u001b[0m)      │ (\u001b[38;5;45mNone\u001b[0m, \u001b[38;5;34m32\u001b[0m, \u001b[38;5;34m32\u001b[0m, \u001b[38;5;34m128\u001b[0m)    │             \u001b[38;5;34m0\u001b[0m │\n",
       "├─────────────────────────────────┼────────────────────────┼───────────────┤\n",
       "│ block3_conv1 (\u001b[38;5;33mConv2D\u001b[0m)           │ (\u001b[38;5;45mNone\u001b[0m, \u001b[38;5;34m32\u001b[0m, \u001b[38;5;34m32\u001b[0m, \u001b[38;5;34m256\u001b[0m)    │       \u001b[38;5;34m295,168\u001b[0m │\n",
       "├─────────────────────────────────┼────────────────────────┼───────────────┤\n",
       "│ block3_conv2 (\u001b[38;5;33mConv2D\u001b[0m)           │ (\u001b[38;5;45mNone\u001b[0m, \u001b[38;5;34m32\u001b[0m, \u001b[38;5;34m32\u001b[0m, \u001b[38;5;34m256\u001b[0m)    │       \u001b[38;5;34m590,080\u001b[0m │\n",
       "├─────────────────────────────────┼────────────────────────┼───────────────┤\n",
       "│ block3_conv3 (\u001b[38;5;33mConv2D\u001b[0m)           │ (\u001b[38;5;45mNone\u001b[0m, \u001b[38;5;34m32\u001b[0m, \u001b[38;5;34m32\u001b[0m, \u001b[38;5;34m256\u001b[0m)    │       \u001b[38;5;34m590,080\u001b[0m │\n",
       "├─────────────────────────────────┼────────────────────────┼───────────────┤\n",
       "│ block3_pool (\u001b[38;5;33mMaxPooling2D\u001b[0m)      │ (\u001b[38;5;45mNone\u001b[0m, \u001b[38;5;34m16\u001b[0m, \u001b[38;5;34m16\u001b[0m, \u001b[38;5;34m256\u001b[0m)    │             \u001b[38;5;34m0\u001b[0m │\n",
       "├─────────────────────────────────┼────────────────────────┼───────────────┤\n",
       "│ block4_conv1 (\u001b[38;5;33mConv2D\u001b[0m)           │ (\u001b[38;5;45mNone\u001b[0m, \u001b[38;5;34m16\u001b[0m, \u001b[38;5;34m16\u001b[0m, \u001b[38;5;34m512\u001b[0m)    │     \u001b[38;5;34m1,180,160\u001b[0m │\n",
       "├─────────────────────────────────┼────────────────────────┼───────────────┤\n",
       "│ block4_conv2 (\u001b[38;5;33mConv2D\u001b[0m)           │ (\u001b[38;5;45mNone\u001b[0m, \u001b[38;5;34m16\u001b[0m, \u001b[38;5;34m16\u001b[0m, \u001b[38;5;34m512\u001b[0m)    │     \u001b[38;5;34m2,359,808\u001b[0m │\n",
       "├─────────────────────────────────┼────────────────────────┼───────────────┤\n",
       "│ block4_conv3 (\u001b[38;5;33mConv2D\u001b[0m)           │ (\u001b[38;5;45mNone\u001b[0m, \u001b[38;5;34m16\u001b[0m, \u001b[38;5;34m16\u001b[0m, \u001b[38;5;34m512\u001b[0m)    │     \u001b[38;5;34m2,359,808\u001b[0m │\n",
       "├─────────────────────────────────┼────────────────────────┼───────────────┤\n",
       "│ block4_pool (\u001b[38;5;33mMaxPooling2D\u001b[0m)      │ (\u001b[38;5;45mNone\u001b[0m, \u001b[38;5;34m8\u001b[0m, \u001b[38;5;34m8\u001b[0m, \u001b[38;5;34m512\u001b[0m)      │             \u001b[38;5;34m0\u001b[0m │\n",
       "├─────────────────────────────────┼────────────────────────┼───────────────┤\n",
       "│ block5_conv1 (\u001b[38;5;33mConv2D\u001b[0m)           │ (\u001b[38;5;45mNone\u001b[0m, \u001b[38;5;34m8\u001b[0m, \u001b[38;5;34m8\u001b[0m, \u001b[38;5;34m512\u001b[0m)      │     \u001b[38;5;34m2,359,808\u001b[0m │\n",
       "├─────────────────────────────────┼────────────────────────┼───────────────┤\n",
       "│ block5_conv2 (\u001b[38;5;33mConv2D\u001b[0m)           │ (\u001b[38;5;45mNone\u001b[0m, \u001b[38;5;34m8\u001b[0m, \u001b[38;5;34m8\u001b[0m, \u001b[38;5;34m512\u001b[0m)      │     \u001b[38;5;34m2,359,808\u001b[0m │\n",
       "├─────────────────────────────────┼────────────────────────┼───────────────┤\n",
       "│ block5_conv3 (\u001b[38;5;33mConv2D\u001b[0m)           │ (\u001b[38;5;45mNone\u001b[0m, \u001b[38;5;34m8\u001b[0m, \u001b[38;5;34m8\u001b[0m, \u001b[38;5;34m512\u001b[0m)      │     \u001b[38;5;34m2,359,808\u001b[0m │\n",
       "├─────────────────────────────────┼────────────────────────┼───────────────┤\n",
       "│ block5_pool (\u001b[38;5;33mMaxPooling2D\u001b[0m)      │ (\u001b[38;5;45mNone\u001b[0m, \u001b[38;5;34m4\u001b[0m, \u001b[38;5;34m4\u001b[0m, \u001b[38;5;34m512\u001b[0m)      │             \u001b[38;5;34m0\u001b[0m │\n",
       "├─────────────────────────────────┼────────────────────────┼───────────────┤\n",
       "│ flatten (\u001b[38;5;33mFlatten\u001b[0m)               │ (\u001b[38;5;45mNone\u001b[0m, \u001b[38;5;34m8192\u001b[0m)           │             \u001b[38;5;34m0\u001b[0m │\n",
       "├─────────────────────────────────┼────────────────────────┼───────────────┤\n",
       "│ dense (\u001b[38;5;33mDense\u001b[0m)                   │ (\u001b[38;5;45mNone\u001b[0m, \u001b[38;5;34m64\u001b[0m)             │       \u001b[38;5;34m524,352\u001b[0m │\n",
       "├─────────────────────────────────┼────────────────────────┼───────────────┤\n",
       "│ batch_normalization             │ (\u001b[38;5;45mNone\u001b[0m, \u001b[38;5;34m64\u001b[0m)             │           \u001b[38;5;34m256\u001b[0m │\n",
       "│ (\u001b[38;5;33mBatchNormalization\u001b[0m)            │                        │               │\n",
       "├─────────────────────────────────┼────────────────────────┼───────────────┤\n",
       "│ dropout (\u001b[38;5;33mDropout\u001b[0m)               │ (\u001b[38;5;45mNone\u001b[0m, \u001b[38;5;34m64\u001b[0m)             │             \u001b[38;5;34m0\u001b[0m │\n",
       "├─────────────────────────────────┼────────────────────────┼───────────────┤\n",
       "│ dense_1 (\u001b[38;5;33mDense\u001b[0m)                 │ (\u001b[38;5;45mNone\u001b[0m, \u001b[38;5;34m16\u001b[0m)             │         \u001b[38;5;34m1,040\u001b[0m │\n",
       "├─────────────────────────────────┼────────────────────────┼───────────────┤\n",
       "│ batch_normalization_1           │ (\u001b[38;5;45mNone\u001b[0m, \u001b[38;5;34m16\u001b[0m)             │            \u001b[38;5;34m64\u001b[0m │\n",
       "│ (\u001b[38;5;33mBatchNormalization\u001b[0m)            │                        │               │\n",
       "├─────────────────────────────────┼────────────────────────┼───────────────┤\n",
       "│ dropout_1 (\u001b[38;5;33mDropout\u001b[0m)             │ (\u001b[38;5;45mNone\u001b[0m, \u001b[38;5;34m16\u001b[0m)             │             \u001b[38;5;34m0\u001b[0m │\n",
       "├─────────────────────────────────┼────────────────────────┼───────────────┤\n",
       "│ dense_2 (\u001b[38;5;33mDense\u001b[0m)                 │ (\u001b[38;5;45mNone\u001b[0m, \u001b[38;5;34m4\u001b[0m)              │            \u001b[38;5;34m68\u001b[0m │\n",
       "└─────────────────────────────────┴────────────────────────┴───────────────┘\n"
      ]
     },
     "metadata": {},
     "output_type": "display_data"
    },
    {
     "data": {
      "text/html": [
       "<pre style=\"white-space:pre;overflow-x:auto;line-height:normal;font-family:Menlo,'DejaVu Sans Mono',consolas,'Courier New',monospace\"><span style=\"font-weight: bold\"> Total params: </span><span style=\"color: #00af00; text-decoration-color: #00af00\">15,240,468</span> (58.14 MB)\n",
       "</pre>\n"
      ],
      "text/plain": [
       "\u001b[1m Total params: \u001b[0m\u001b[38;5;34m15,240,468\u001b[0m (58.14 MB)\n"
      ]
     },
     "metadata": {},
     "output_type": "display_data"
    },
    {
     "data": {
      "text/html": [
       "<pre style=\"white-space:pre;overflow-x:auto;line-height:normal;font-family:Menlo,'DejaVu Sans Mono',consolas,'Courier New',monospace\"><span style=\"font-weight: bold\"> Trainable params: </span><span style=\"color: #00af00; text-decoration-color: #00af00\">15,240,308</span> (58.14 MB)\n",
       "</pre>\n"
      ],
      "text/plain": [
       "\u001b[1m Trainable params: \u001b[0m\u001b[38;5;34m15,240,308\u001b[0m (58.14 MB)\n"
      ]
     },
     "metadata": {},
     "output_type": "display_data"
    },
    {
     "data": {
      "text/html": [
       "<pre style=\"white-space:pre;overflow-x:auto;line-height:normal;font-family:Menlo,'DejaVu Sans Mono',consolas,'Courier New',monospace\"><span style=\"font-weight: bold\"> Non-trainable params: </span><span style=\"color: #00af00; text-decoration-color: #00af00\">160</span> (640.00 B)\n",
       "</pre>\n"
      ],
      "text/plain": [
       "\u001b[1m Non-trainable params: \u001b[0m\u001b[38;5;34m160\u001b[0m (640.00 B)\n"
      ]
     },
     "metadata": {},
     "output_type": "display_data"
    }
   ],
   "source": [
    "            # 'VGG16': VGG16,\n",
    "            # 'ResNet50': ResNet50,\n",
    "            # 'Xception': Xception,\n",
    "            # 'InceptionV3': InceptionV3,\n",
    "            # 'MobileNetV2': MobileNetV2,\n",
    "            # 'DenseNet121': DenseNet121,\n",
    "            # 'EfficientNetB0': EfficientNetB0\n",
    "\n",
    "model_name = 'VGG16'\n",
    "selected_model_name = model_name\n",
    "num_layers_to_train = 0\n",
    "\n",
    "model = create_custom_model(model_name, num_layers_to_train, num_classes=num_classes)\n",
    "model.summary()"
   ]
  },
  {
   "cell_type": "code",
   "execution_count": 9,
   "id": "0537a4cc",
   "metadata": {
    "_kg_hide-output": false,
    "execution": {
     "iopub.execute_input": "2024-07-29T15:45:05.054783Z",
     "iopub.status.busy": "2024-07-29T15:45:05.054401Z",
     "iopub.status.idle": "2024-07-29T15:45:05.522340Z",
     "shell.execute_reply": "2024-07-29T15:45:05.521379Z"
    },
    "papermill": {
     "duration": 0.567921,
     "end_time": "2024-07-29T15:45:05.525885",
     "exception": false,
     "start_time": "2024-07-29T15:45:04.957964",
     "status": "completed"
    },
    "tags": []
   },
   "outputs": [
    {
     "data": {
      "image/png": "[encoded data removed]",
      "text/plain": [
       "<IPython.core.display.Image object>"
      ]
     },
     "execution_count": 9,
     "metadata": {},
     "output_type": "execute_result"
    }
   ],
   "source": [
    "from tensorflow.keras.utils import plot_model\n",
    "\n",
    "# Visualize the model architecture\n",
    "plot_model(model,\n",
    "#            show_shapes=True,\n",
    "#            show_layer_names=True,\n",
    "           to_file='model.png')"
   ]
  },
  {
   "cell_type": "markdown",
   "id": "2af44cd4",
   "metadata": {
    "id": "qP0KjgNCTa22",
    "papermill": {
     "duration": 0.049265,
     "end_time": "2024-07-29T15:45:05.626026",
     "exception": false,
     "start_time": "2024-07-29T15:45:05.576761",
     "status": "completed"
    },
    "tags": []
   },
   "source": [
    "# Training"
   ]
  },
  {
   "cell_type": "code",
   "execution_count": 10,
   "id": "219e3e3e",
   "metadata": {
    "execution": {
     "iopub.execute_input": "2024-07-29T15:45:05.726889Z",
     "iopub.status.busy": "2024-07-29T15:45:05.726009Z",
     "iopub.status.idle": "2024-07-29T15:45:05.736009Z",
     "shell.execute_reply": "2024-07-29T15:45:05.735105Z"
    },
    "id": "Q-x9LvdDhCF0",
    "papermill": {
     "duration": 0.062853,
     "end_time": "2024-07-29T15:45:05.737840",
     "exception": false,
     "start_time": "2024-07-29T15:45:05.674987",
     "status": "completed"
    },
    "tags": []
   },
   "outputs": [],
   "source": [
    "import tensorflow as tf\n",
    "from keras.callbacks import (\n",
    "    EarlyStopping,\n",
    "    ModelCheckpoint,\n",
    "#     TensorBoard,\n",
    "    ReduceLROnPlateau,\n",
    "    CSVLogger,\n",
    "    LearningRateScheduler,\n",
    "    Callback\n",
    ")\n",
    "import datetime\n",
    "\n",
    "# Define early stopping\n",
    "early_stopping = EarlyStopping(monitor=\"val_loss\", patience=10)\n",
    "\n",
    "# Define model checkpointing\n",
    "model_checkpoint = ModelCheckpoint(\n",
    "    \"best_model.keras\", monitor=\"val_loss\", save_best_only=True\n",
    ")\n",
    "\n",
    "# Define TensorBoard callback\n",
    "log_dir = \"logs/fit/\" + datetime.datetime.now().strftime(\"%Y%m%d-%H%M%S\")\n",
    "tensorboard_callback = tf.keras.callbacks.TensorBoard(\n",
    "    log_dir=log_dir, histogram_freq=1, update_freq=\"epoch\"\n",
    ")\n",
    "\n",
    "# Define ReduceLROnPlateau callback\n",
    "reduce_lr = ReduceLROnPlateau(monitor=\"val_loss\", factor=0.2, patience=5, min_lr=1e-6)\n",
    "\n",
    "# Define CSVLogger callback\n",
    "csv_logger = tf.keras.callbacks.CSVLogger(\"training.log\")\n",
    "\n",
    "\n",
    "# Define LearningRateScheduler callback\n",
    "def lr_scheduler(epoch, lr):\n",
    "    if epoch % 10 == 0:\n",
    "        return lr * 0.9\n",
    "    else:\n",
    "        return lr\n",
    "\n",
    "\n",
    "lr_scheduler_callback = LearningRateScheduler(lr_scheduler)\n",
    "\n",
    "class EpochLogger(Callback):\n",
    "    def on_epoch_begin(self, epoch, logs=None):\n",
    "        print(f\"Starting epoch {epoch + 1}\")\n",
    "        self.current_epoch = epoch + 1\n",
    "\n",
    "epoch_logger = EpochLogger()\n",
    "\n",
    "# Combine all callbacks\n",
    "callbacks = [\n",
    "    early_stopping,\n",
    "    model_checkpoint,\n",
    "#     tensorboard_callback,\n",
    "    reduce_lr,\n",
    "    csv_logger,\n",
    "    lr_scheduler_callback,\n",
    "    epoch_logger\n",
    "]"
   ]
  },
  {
   "cell_type": "code",
   "execution_count": 11,
   "id": "0d1e23c4",
   "metadata": {
    "execution": {
     "iopub.execute_input": "2024-07-29T15:45:05.840558Z",
     "iopub.status.busy": "2024-07-29T15:45:05.839720Z",
     "iopub.status.idle": "2024-07-29T15:45:05.855272Z",
     "shell.execute_reply": "2024-07-29T15:45:05.854344Z"
    },
    "papermill": {
     "duration": 0.07027,
     "end_time": "2024-07-29T15:45:05.857606",
     "exception": false,
     "start_time": "2024-07-29T15:45:05.787336",
     "status": "completed"
    },
    "tags": []
   },
   "outputs": [],
   "source": [
    "import time\n",
    "import pandas as pd\n",
    "from keras.optimizers import Adam, RMSprop, SGD, Adagrad, Adadelta, Nadam, AdamW\n",
    "\n",
    "def define_optimizers():\n",
    "    return {\n",
    "        \"Adam\": Adam(learning_rate=0.001, beta_1=0.9, beta_2=0.999, epsilon=1e-7, amsgrad=False),\n",
    "#         \"SGD\": SGD(learning_rate=0.001, momentum=0.009, nesterov=False),\n",
    "#         \"Adagrad\": Adagrad(learning_rate=0.001, epsilon=1e-7),\n",
    "#         \"Adadelta\": Adadelta(learning_rate=0.001, rho=0.95, epsilon=1e-7),\n",
    "#         \"Nadam\": Nadam(learning_rate=0.001, beta_1=0.9, beta_2=0.999, epsilon=1e-7),\n",
    "#         \"RMSprop\": RMSprop(learning_rate=0.001, rho=0.9, momentum=0.0, epsilon=1e-7),\n",
    "#         \"AdamW\": AdamW(learning_rate=1e-3, beta_1=0.9, beta_2=0.999, epsilon=1e-7, weight_decay=1e-2)\n",
    "    }\n",
    "\n",
    "def train_and_evaluate(model, train_generator, val_generator, test_generator, callbacks, batch_size):\n",
    "    start_time = time.time()\n",
    "    history = model.fit(\n",
    "        train_generator,\n",
    "        validation_data=val_generator,\n",
    "        epochs=epochs,\n",
    "        callbacks=callbacks,\n",
    "        batch_size=batch_size,\n",
    "        verbose=1,\n",
    "    )\n",
    "    training_time = (time.time() - start_time) / 60.0\n",
    "    test_loss, test_accuracy = model.evaluate(test_generator, verbose=0)\n",
    "    return history, training_time, test_loss, test_accuracy\n",
    "\n",
    "def collect_metrics(history, training_time, test_loss, test_accuracy, model_name):\n",
    "    return {\n",
    "        'Model Name': model_name,\n",
    "        'epoch': range(1, len(history.history['loss']) + 1),\n",
    "        'train_loss': history.history['loss'],\n",
    "        'train_accuracy': history.history['accuracy'],\n",
    "        'val_loss': history.history['val_loss'],\n",
    "        'val_accuracy': history.history['val_accuracy'],\n",
    "        'training_time_minutes': [training_time] * len(history.history['loss']),\n",
    "        'test_loss': [test_loss] * len(history.history['loss']),\n",
    "        'test_accuracy': [test_accuracy] * len(history.history['loss'])\n",
    "    }\n",
    "\n",
    "def save_metrics(metrics, filename):\n",
    "    pd.DataFrame(metrics).to_csv(filename, index=False)\n",
    "    print(f\"Metrics saved to {filename}\")\n",
    "\n",
    "def calculate_mean_metrics(metrics):\n",
    "    return {\n",
    "        'Model Name': metrics['Model Name'],\n",
    "        'Optimizer': metrics['Optimizer'],\n",
    "        'Mean_Train_Loss': np.mean(metrics['train_loss']),\n",
    "        'Mean_Train_Accuracy': np.mean(metrics['train_accuracy']),\n",
    "        'Mean_Val_Loss': np.mean(metrics['val_loss']),\n",
    "        'Mean_Val_Accuracy': np.mean(metrics['val_accuracy']),\n",
    "        'Total_Training_Time_Minutes': np.sum(metrics['training_time_minutes']),\n",
    "        'Test_Loss': metrics['test_loss'][0],\n",
    "        'Test_Accuracy': metrics['test_accuracy'][0]\n",
    "    }"
   ]
  },
  {
   "cell_type": "code",
   "execution_count": 12,
   "id": "55ad042e",
   "metadata": {
    "execution": {
     "iopub.execute_input": "2024-07-29T15:45:05.966138Z",
     "iopub.status.busy": "2024-07-29T15:45:05.965252Z",
     "iopub.status.idle": "2024-07-29T16:27:05.419469Z",
     "shell.execute_reply": "2024-07-29T16:27:05.418411Z"
    },
    "papermill": {
     "duration": 2520.710118,
     "end_time": "2024-07-29T16:27:06.621363",
     "exception": false,
     "start_time": "2024-07-29T15:45:05.911245",
     "status": "completed"
    },
    "tags": []
   },
   "outputs": [
    {
     "name": "stdout",
     "output_type": "stream",
     "text": [
      "Starting epoch 1\n",
      "Epoch 1/200\n"
     ]
    },
    {
     "name": "stderr",
     "output_type": "stream",
     "text": [
      "/opt/conda/lib/python3.10/site-packages/keras/src/trainers/data_adapters/py_dataset_adapter.py:121: UserWarning: Your `PyDataset` class should call `super().__init__(**kwargs)` in its constructor. `**kwargs` can include `workers`, `use_multiprocessing`, `max_queue_size`. Do not pass these arguments to `fit()`, as they will be ignored.\n",
      "  self._warn_if_super_not_called()\n"
     ]
    },
    {
     "name": "stdout",
     "output_type": "stream",
     "text": [
      "\u001b[1m  1/200\u001b[0m \u001b[37m━━━━━━━━━━━━━━━━━━━━\u001b[0m \u001b[1m2:22:31\u001b[0m 43s/step - accuracy: 0.2500 - loss: 1.6466"
     ]
    },
    {
     "name": "stderr",
     "output_type": "stream",
     "text": [
      "WARNING: All log messages before absl::InitializeLog() is called are written to STDERR\n",
      "I0000 00:00:1722267949.437018      99 device_compiler.h:186] Compiled cluster using XLA!  This line is logged at most once for the lifetime of the process.\n",
      "W0000 00:00:1722267949.466040      99 graph_launch.cc:671] Fallback to op-by-op mode because memset node breaks graph update\n"
     ]
    },
    {
     "name": "stdout",
     "output_type": "stream",
     "text": [
      "\u001b[1m200/200\u001b[0m \u001b[32m━━━━━━━━━━━━━━━━━━━━\u001b[0m\u001b[37m\u001b[0m \u001b[1m0s\u001b[0m 164ms/step - accuracy: 0.2759 - loss: 1.6235"
     ]
    },
    {
     "name": "stderr",
     "output_type": "stream",
     "text": [
      "W0000 00:00:1722267983.326146     100 graph_launch.cc:671] Fallback to op-by-op mode because memset node breaks graph update\n"
     ]
    },
    {
     "name": "stdout",
     "output_type": "stream",
     "text": [
      "\u001b[1m200/200\u001b[0m \u001b[32m━━━━━━━━━━━━━━━━━━━━\u001b[0m\u001b[37m\u001b[0m \u001b[1m79s\u001b[0m 179ms/step - accuracy: 0.2760 - loss: 1.6231 - val_accuracy: 0.2500 - val_loss: 21.6731 - learning_rate: 9.0000e-04\n",
      "Starting epoch 2\n",
      "Epoch 2/200\n",
      "\u001b[1m200/200\u001b[0m \u001b[32m━━━━━━━━━━━━━━━━━━━━\u001b[0m\u001b[37m\u001b[0m \u001b[1m44s\u001b[0m 175ms/step - accuracy: 0.3335 - loss: 1.3914 - val_accuracy: 0.2500 - val_loss: 8.3901 - learning_rate: 9.0000e-04\n",
      "Starting epoch 3\n",
      "Epoch 3/200\n",
      "\u001b[1m200/200\u001b[0m \u001b[32m━━━━━━━━━━━━━━━━━━━━\u001b[0m\u001b[37m\u001b[0m \u001b[1m41s\u001b[0m 174ms/step - accuracy: 0.3909 - loss: 1.2973 - val_accuracy: 0.2488 - val_loss: 2.7913 - learning_rate: 9.0000e-04\n",
      "Starting epoch 4\n",
      "Epoch 4/200\n",
      "\u001b[1m200/200\u001b[0m \u001b[32m━━━━━━━━━━━━━━━━━━━━\u001b[0m\u001b[37m\u001b[0m \u001b[1m35s\u001b[0m 170ms/step - accuracy: 0.4433 - loss: 1.2168 - val_accuracy: 0.2500 - val_loss: 3.8888 - learning_rate: 9.0000e-04\n",
      "Starting epoch 5\n",
      "Epoch 5/200\n",
      "\u001b[1m200/200\u001b[0m \u001b[32m━━━━━━━━━━━━━━━━━━━━\u001b[0m\u001b[37m\u001b[0m \u001b[1m36s\u001b[0m 174ms/step - accuracy: 0.4991 - loss: 1.0779 - val_accuracy: 0.3825 - val_loss: 2.0774 - learning_rate: 9.0000e-04\n",
      "Starting epoch 6\n",
      "Epoch 6/200\n",
      "\u001b[1m200/200\u001b[0m \u001b[32m━━━━━━━━━━━━━━━━━━━━\u001b[0m\u001b[37m\u001b[0m \u001b[1m36s\u001b[0m 174ms/step - accuracy: 0.5738 - loss: 0.9401 - val_accuracy: 0.3638 - val_loss: 1.5269 - learning_rate: 9.0000e-04\n",
      "Starting epoch 7\n",
      "Epoch 7/200\n",
      "\u001b[1m200/200\u001b[0m \u001b[32m━━━━━━━━━━━━━━━━━━━━\u001b[0m\u001b[37m\u001b[0m \u001b[1m35s\u001b[0m 169ms/step - accuracy: 0.6073 - loss: 0.8563 - val_accuracy: 0.2500 - val_loss: 8.9692 - learning_rate: 9.0000e-04\n",
      "Starting epoch 8\n",
      "Epoch 8/200\n",
      "\u001b[1m200/200\u001b[0m \u001b[32m━━━━━━━━━━━━━━━━━━━━\u001b[0m\u001b[37m\u001b[0m \u001b[1m36s\u001b[0m 174ms/step - accuracy: 0.6295 - loss: 0.8149 - val_accuracy: 0.5975 - val_loss: 0.7896 - learning_rate: 9.0000e-04\n",
      "Starting epoch 9\n",
      "Epoch 9/200\n",
      "\u001b[1m200/200\u001b[0m \u001b[32m━━━━━━━━━━━━━━━━━━━━\u001b[0m\u001b[37m\u001b[0m \u001b[1m36s\u001b[0m 173ms/step - accuracy: 0.6459 - loss: 0.7627 - val_accuracy: 0.6212 - val_loss: 0.7675 - learning_rate: 9.0000e-04\n",
      "Starting epoch 10\n",
      "Epoch 10/200\n",
      "\u001b[1m200/200\u001b[0m \u001b[32m━━━━━━━━━━━━━━━━━━━━\u001b[0m\u001b[37m\u001b[0m \u001b[1m35s\u001b[0m 170ms/step - accuracy: 0.6515 - loss: 0.7342 - val_accuracy: 0.2500 - val_loss: 7.3652 - learning_rate: 9.0000e-04\n",
      "Starting epoch 11\n",
      "Epoch 11/200\n",
      "\u001b[1m200/200\u001b[0m \u001b[32m━━━━━━━━━━━━━━━━━━━━\u001b[0m\u001b[37m\u001b[0m \u001b[1m35s\u001b[0m 171ms/step - accuracy: 0.6761 - loss: 0.7022 - val_accuracy: 0.6413 - val_loss: 0.7780 - learning_rate: 8.1000e-04\n",
      "Starting epoch 12\n",
      "Epoch 12/200\n",
      "\u001b[1m200/200\u001b[0m \u001b[32m━━━━━━━━━━━━━━━━━━━━\u001b[0m\u001b[37m\u001b[0m \u001b[1m36s\u001b[0m 175ms/step - accuracy: 0.6800 - loss: 0.6846 - val_accuracy: 0.6400 - val_loss: 0.7575 - learning_rate: 8.1000e-04\n",
      "Starting epoch 13\n",
      "Epoch 13/200\n",
      "\u001b[1m200/200\u001b[0m \u001b[32m━━━━━━━━━━━━━━━━━━━━\u001b[0m\u001b[37m\u001b[0m \u001b[1m37s\u001b[0m 177ms/step - accuracy: 0.7077 - loss: 0.6482 - val_accuracy: 0.6363 - val_loss: 0.7045 - learning_rate: 8.1000e-04\n",
      "Starting epoch 14\n",
      "Epoch 14/200\n",
      "\u001b[1m200/200\u001b[0m \u001b[32m━━━━━━━━━━━━━━━━━━━━\u001b[0m\u001b[37m\u001b[0m \u001b[1m36s\u001b[0m 176ms/step - accuracy: 0.7092 - loss: 0.6303 - val_accuracy: 0.7262 - val_loss: 0.6017 - learning_rate: 8.1000e-04\n",
      "Starting epoch 15\n",
      "Epoch 15/200\n",
      "\u001b[1m200/200\u001b[0m \u001b[32m━━━━━━━━━━━━━━━━━━━━\u001b[0m\u001b[37m\u001b[0m \u001b[1m35s\u001b[0m 170ms/step - accuracy: 0.7117 - loss: 0.6254 - val_accuracy: 0.5025 - val_loss: 1.3844 - learning_rate: 8.1000e-04\n",
      "Starting epoch 16\n",
      "Epoch 16/200\n",
      "\u001b[1m200/200\u001b[0m \u001b[32m━━━━━━━━━━━━━━━━━━━━\u001b[0m\u001b[37m\u001b[0m \u001b[1m35s\u001b[0m 170ms/step - accuracy: 0.7331 - loss: 0.5984 - val_accuracy: 0.6662 - val_loss: 0.6582 - learning_rate: 8.1000e-04\n",
      "Starting epoch 17\n",
      "Epoch 17/200\n",
      "\u001b[1m200/200\u001b[0m \u001b[32m━━━━━━━━━━━━━━━━━━━━\u001b[0m\u001b[37m\u001b[0m \u001b[1m35s\u001b[0m 170ms/step - accuracy: 0.7442 - loss: 0.5616 - val_accuracy: 0.5225 - val_loss: 1.2810 - learning_rate: 8.1000e-04\n",
      "Starting epoch 18\n",
      "Epoch 18/200\n",
      "\u001b[1m200/200\u001b[0m \u001b[32m━━━━━━━━━━━━━━━━━━━━\u001b[0m\u001b[37m\u001b[0m \u001b[1m35s\u001b[0m 170ms/step - accuracy: 0.7639 - loss: 0.5471 - val_accuracy: 0.5063 - val_loss: 1.9443 - learning_rate: 8.1000e-04\n",
      "Starting epoch 19\n",
      "Epoch 19/200\n",
      "\u001b[1m200/200\u001b[0m \u001b[32m━━━━━━━━━━━━━━━━━━━━\u001b[0m\u001b[37m\u001b[0m \u001b[1m36s\u001b[0m 173ms/step - accuracy: 0.7600 - loss: 0.5401 - val_accuracy: 0.7700 - val_loss: 0.4921 - learning_rate: 8.1000e-04\n",
      "Starting epoch 20\n",
      "Epoch 20/200\n",
      "\u001b[1m200/200\u001b[0m \u001b[32m━━━━━━━━━━━━━━━━━━━━\u001b[0m\u001b[37m\u001b[0m \u001b[1m36s\u001b[0m 174ms/step - accuracy: 0.7769 - loss: 0.5034 - val_accuracy: 0.7925 - val_loss: 0.4788 - learning_rate: 8.1000e-04\n",
      "Starting epoch 21\n",
      "Epoch 21/200\n",
      "\u001b[1m200/200\u001b[0m \u001b[32m━━━━━━━━━━━━━━━━━━━━\u001b[0m\u001b[37m\u001b[0m \u001b[1m40s\u001b[0m 171ms/step - accuracy: 0.7801 - loss: 0.4903 - val_accuracy: 0.4625 - val_loss: 3.1463 - learning_rate: 7.2900e-04\n",
      "Starting epoch 22\n",
      "Epoch 22/200\n",
      "\u001b[1m200/200\u001b[0m \u001b[32m━━━━━━━━━━━━━━━━━━━━\u001b[0m\u001b[37m\u001b[0m \u001b[1m36s\u001b[0m 171ms/step - accuracy: 0.8007 - loss: 0.4471 - val_accuracy: 0.7100 - val_loss: 0.6296 - learning_rate: 7.2900e-04\n",
      "Starting epoch 23\n",
      "Epoch 23/200\n",
      "\u001b[1m200/200\u001b[0m \u001b[32m━━━━━━━━━━━━━━━━━━━━\u001b[0m\u001b[37m\u001b[0m \u001b[1m36s\u001b[0m 174ms/step - accuracy: 0.8135 - loss: 0.4254 - val_accuracy: 0.7887 - val_loss: 0.4474 - learning_rate: 7.2900e-04\n",
      "Starting epoch 24\n",
      "Epoch 24/200\n",
      "\u001b[1m200/200\u001b[0m \u001b[32m━━━━━━━━━━━━━━━━━━━━\u001b[0m\u001b[37m\u001b[0m \u001b[1m35s\u001b[0m 169ms/step - accuracy: 0.8152 - loss: 0.4166 - val_accuracy: 0.5075 - val_loss: 1.7178 - learning_rate: 7.2900e-04\n",
      "Starting epoch 25\n",
      "Epoch 25/200\n",
      "\u001b[1m200/200\u001b[0m \u001b[32m━━━━━━━━━━━━━━━━━━━━\u001b[0m\u001b[37m\u001b[0m \u001b[1m35s\u001b[0m 169ms/step - accuracy: 0.8086 - loss: 0.4278 - val_accuracy: 0.7000 - val_loss: 0.6721 - learning_rate: 7.2900e-04\n",
      "Starting epoch 26\n",
      "Epoch 26/200\n",
      "\u001b[1m200/200\u001b[0m \u001b[32m━━━━━━━━━━━━━━━━━━━━\u001b[0m\u001b[37m\u001b[0m \u001b[1m36s\u001b[0m 173ms/step - accuracy: 0.8382 - loss: 0.3734 - val_accuracy: 0.8350 - val_loss: 0.3856 - learning_rate: 7.2900e-04\n",
      "Starting epoch 27\n",
      "Epoch 27/200\n",
      "\u001b[1m200/200\u001b[0m \u001b[32m━━━━━━━━━━━━━━━━━━━━\u001b[0m\u001b[37m\u001b[0m \u001b[1m35s\u001b[0m 169ms/step - accuracy: 0.8386 - loss: 0.3867 - val_accuracy: 0.8163 - val_loss: 0.4135 - learning_rate: 7.2900e-04\n",
      "Starting epoch 28\n",
      "Epoch 28/200\n",
      "\u001b[1m200/200\u001b[0m \u001b[32m━━━━━━━━━━━━━━━━━━━━\u001b[0m\u001b[37m\u001b[0m \u001b[1m35s\u001b[0m 170ms/step - accuracy: 0.8372 - loss: 0.3786 - val_accuracy: 0.7175 - val_loss: 0.5988 - learning_rate: 7.2900e-04\n",
      "Starting epoch 29\n",
      "Epoch 29/200\n",
      "\u001b[1m200/200\u001b[0m \u001b[32m━━━━━━━━━━━━━━━━━━━━\u001b[0m\u001b[37m\u001b[0m \u001b[1m35s\u001b[0m 169ms/step - accuracy: 0.8611 - loss: 0.3412 - val_accuracy: 0.6463 - val_loss: 0.9348 - learning_rate: 7.2900e-04\n",
      "Starting epoch 30\n",
      "Epoch 30/200\n",
      "\u001b[1m200/200\u001b[0m \u001b[32m━━━━━━━━━━━━━━━━━━━━\u001b[0m\u001b[37m\u001b[0m \u001b[1m35s\u001b[0m 170ms/step - accuracy: 0.8602 - loss: 0.3352 - val_accuracy: 0.7775 - val_loss: 0.5686 - learning_rate: 7.2900e-04\n",
      "Starting epoch 31\n",
      "Epoch 31/200\n",
      "\u001b[1m200/200\u001b[0m \u001b[32m━━━━━━━━━━━━━━━━━━━━\u001b[0m\u001b[37m\u001b[0m \u001b[1m35s\u001b[0m 170ms/step - accuracy: 0.8652 - loss: 0.3198 - val_accuracy: 0.3963 - val_loss: 4.0281 - learning_rate: 1.3122e-04\n",
      "Starting epoch 32\n",
      "Epoch 32/200\n",
      "\u001b[1m200/200\u001b[0m \u001b[32m━━━━━━━━━━━━━━━━━━━━\u001b[0m\u001b[37m\u001b[0m \u001b[1m35s\u001b[0m 169ms/step - accuracy: 0.8820 - loss: 0.2879 - val_accuracy: 0.8388 - val_loss: 0.4008 - learning_rate: 1.3122e-04\n",
      "Starting epoch 33\n",
      "Epoch 33/200\n",
      "\u001b[1m200/200\u001b[0m \u001b[32m━━━━━━━━━━━━━━━━━━━━\u001b[0m\u001b[37m\u001b[0m \u001b[1m35s\u001b[0m 169ms/step - accuracy: 0.9028 - loss: 0.2491 - val_accuracy: 0.7088 - val_loss: 0.7088 - learning_rate: 1.3122e-04\n",
      "Starting epoch 34\n",
      "Epoch 34/200\n",
      "\u001b[1m200/200\u001b[0m \u001b[32m━━━━━━━━━━━━━━━━━━━━\u001b[0m\u001b[37m\u001b[0m \u001b[1m36s\u001b[0m 173ms/step - accuracy: 0.9031 - loss: 0.2497 - val_accuracy: 0.8438 - val_loss: 0.3804 - learning_rate: 1.3122e-04\n",
      "Starting epoch 35\n",
      "Epoch 35/200\n",
      "\u001b[1m200/200\u001b[0m \u001b[32m━━━━━━━━━━━━━━━━━━━━\u001b[0m\u001b[37m\u001b[0m \u001b[1m36s\u001b[0m 174ms/step - accuracy: 0.9133 - loss: 0.2265 - val_accuracy: 0.8750 - val_loss: 0.3084 - learning_rate: 1.3122e-04\n",
      "Starting epoch 36\n",
      "Epoch 36/200\n",
      "\u001b[1m200/200\u001b[0m \u001b[32m━━━━━━━━━━━━━━━━━━━━\u001b[0m\u001b[37m\u001b[0m \u001b[1m36s\u001b[0m 172ms/step - accuracy: 0.9188 - loss: 0.2212 - val_accuracy: 0.8438 - val_loss: 0.3869 - learning_rate: 1.3122e-04\n",
      "Starting epoch 37\n",
      "Epoch 37/200\n",
      "\u001b[1m200/200\u001b[0m \u001b[32m━━━━━━━━━━━━━━━━━━━━\u001b[0m\u001b[37m\u001b[0m \u001b[1m35s\u001b[0m 171ms/step - accuracy: 0.9276 - loss: 0.1952 - val_accuracy: 0.8788 - val_loss: 0.3189 - learning_rate: 1.3122e-04\n",
      "Starting epoch 38\n",
      "Epoch 38/200\n",
      "\u001b[1m200/200\u001b[0m \u001b[32m━━━━━━━━━━━━━━━━━━━━\u001b[0m\u001b[37m\u001b[0m \u001b[1m36s\u001b[0m 172ms/step - accuracy: 0.9272 - loss: 0.1949 - val_accuracy: 0.8700 - val_loss: 0.3236 - learning_rate: 1.3122e-04\n",
      "Starting epoch 39\n",
      "Epoch 39/200\n",
      "\u001b[1m200/200\u001b[0m \u001b[32m━━━━━━━━━━━━━━━━━━━━\u001b[0m\u001b[37m\u001b[0m \u001b[1m35s\u001b[0m 169ms/step - accuracy: 0.9246 - loss: 0.1961 - val_accuracy: 0.8512 - val_loss: 0.3583 - learning_rate: 1.3122e-04\n",
      "Starting epoch 40\n",
      "Epoch 40/200\n",
      "\u001b[1m200/200\u001b[0m \u001b[32m━━━━━━━━━━━━━━━━━━━━\u001b[0m\u001b[37m\u001b[0m \u001b[1m36s\u001b[0m 174ms/step - accuracy: 0.9233 - loss: 0.1995 - val_accuracy: 0.8863 - val_loss: 0.2940 - learning_rate: 1.3122e-04\n",
      "Starting epoch 41\n",
      "Epoch 41/200\n",
      "\u001b[1m200/200\u001b[0m \u001b[32m━━━━━━━━━━━━━━━━━━━━\u001b[0m\u001b[37m\u001b[0m \u001b[1m35s\u001b[0m 170ms/step - accuracy: 0.9293 - loss: 0.1886 - val_accuracy: 0.6800 - val_loss: 0.8941 - learning_rate: 1.1810e-04\n",
      "Starting epoch 42\n",
      "Epoch 42/200\n",
      "\u001b[1m200/200\u001b[0m \u001b[32m━━━━━━━━━━━━━━━━━━━━\u001b[0m\u001b[37m\u001b[0m \u001b[1m35s\u001b[0m 169ms/step - accuracy: 0.9391 - loss: 0.1794 - val_accuracy: 0.7912 - val_loss: 0.5077 - learning_rate: 1.1810e-04\n",
      "Starting epoch 43\n",
      "Epoch 43/200\n",
      "\u001b[1m200/200\u001b[0m \u001b[32m━━━━━━━━━━━━━━━━━━━━\u001b[0m\u001b[37m\u001b[0m \u001b[1m35s\u001b[0m 169ms/step - accuracy: 0.9284 - loss: 0.1922 - val_accuracy: 0.8363 - val_loss: 0.4231 - learning_rate: 1.1810e-04\n",
      "Starting epoch 44\n",
      "Epoch 44/200\n",
      "\u001b[1m200/200\u001b[0m \u001b[32m━━━━━━━━━━━━━━━━━━━━\u001b[0m\u001b[37m\u001b[0m \u001b[1m35s\u001b[0m 170ms/step - accuracy: 0.9308 - loss: 0.1832 - val_accuracy: 0.8800 - val_loss: 0.3235 - learning_rate: 1.1810e-04\n",
      "Starting epoch 45\n",
      "Epoch 45/200\n",
      "\u001b[1m200/200\u001b[0m \u001b[32m━━━━━━━━━━━━━━━━━━━━\u001b[0m\u001b[37m\u001b[0m \u001b[1m35s\u001b[0m 169ms/step - accuracy: 0.9477 - loss: 0.1483 - val_accuracy: 0.8838 - val_loss: 0.2995 - learning_rate: 2.3620e-05\n",
      "Starting epoch 46\n",
      "Epoch 46/200\n",
      "\u001b[1m200/200\u001b[0m \u001b[32m━━━━━━━━━━━━━━━━━━━━\u001b[0m\u001b[37m\u001b[0m \u001b[1m35s\u001b[0m 170ms/step - accuracy: 0.9412 - loss: 0.1577 - val_accuracy: 0.8838 - val_loss: 0.3023 - learning_rate: 2.3620e-05\n",
      "Starting epoch 47\n",
      "Epoch 47/200\n",
      "\u001b[1m200/200\u001b[0m \u001b[32m━━━━━━━━━━━━━━━━━━━━\u001b[0m\u001b[37m\u001b[0m \u001b[1m35s\u001b[0m 169ms/step - accuracy: 0.9458 - loss: 0.1464 - val_accuracy: 0.8825 - val_loss: 0.2995 - learning_rate: 2.3620e-05\n",
      "Starting epoch 48\n",
      "Epoch 48/200\n",
      "\u001b[1m200/200\u001b[0m \u001b[32m━━━━━━━━━━━━━━━━━━━━\u001b[0m\u001b[37m\u001b[0m \u001b[1m35s\u001b[0m 169ms/step - accuracy: 0.9472 - loss: 0.1455 - val_accuracy: 0.8838 - val_loss: 0.3038 - learning_rate: 2.3620e-05\n",
      "Starting epoch 49\n",
      "Epoch 49/200\n",
      "\u001b[1m200/200\u001b[0m \u001b[32m━━━━━━━━━━━━━━━━━━━━\u001b[0m\u001b[37m\u001b[0m \u001b[1m36s\u001b[0m 174ms/step - accuracy: 0.9483 - loss: 0.1550 - val_accuracy: 0.8838 - val_loss: 0.2923 - learning_rate: 2.3620e-05\n",
      "Starting epoch 50\n",
      "Epoch 50/200\n",
      "\u001b[1m200/200\u001b[0m \u001b[32m━━━━━━━━━━━━━━━━━━━━\u001b[0m\u001b[37m\u001b[0m \u001b[1m35s\u001b[0m 171ms/step - accuracy: 0.9496 - loss: 0.1446 - val_accuracy: 0.8637 - val_loss: 0.3516 - learning_rate: 2.3620e-05\n",
      "Starting epoch 51\n",
      "Epoch 51/200\n",
      "\u001b[1m200/200\u001b[0m \u001b[32m━━━━━━━━━━━━━━━━━━━━\u001b[0m\u001b[37m\u001b[0m \u001b[1m35s\u001b[0m 170ms/step - accuracy: 0.9394 - loss: 0.1735 - val_accuracy: 0.8863 - val_loss: 0.3045 - learning_rate: 2.1258e-05\n",
      "Starting epoch 52\n",
      "Epoch 52/200\n",
      "\u001b[1m200/200\u001b[0m \u001b[32m━━━━━━━━━━━━━━━━━━━━\u001b[0m\u001b[37m\u001b[0m \u001b[1m36s\u001b[0m 172ms/step - accuracy: 0.9469 - loss: 0.1452 - val_accuracy: 0.8813 - val_loss: 0.2981 - learning_rate: 2.1258e-05\n",
      "Starting epoch 53\n",
      "Epoch 53/200\n",
      "\u001b[1m200/200\u001b[0m \u001b[32m━━━━━━━━━━━━━━━━━━━━\u001b[0m\u001b[37m\u001b[0m \u001b[1m36s\u001b[0m 174ms/step - accuracy: 0.9444 - loss: 0.1461 - val_accuracy: 0.9000 - val_loss: 0.2899 - learning_rate: 2.1258e-05\n",
      "Starting epoch 54\n",
      "Epoch 54/200\n",
      "\u001b[1m200/200\u001b[0m \u001b[32m━━━━━━━━━━━━━━━━━━━━\u001b[0m\u001b[37m\u001b[0m \u001b[1m36s\u001b[0m 172ms/step - accuracy: 0.9542 - loss: 0.1381 - val_accuracy: 0.8750 - val_loss: 0.3255 - learning_rate: 2.1258e-05\n",
      "Starting epoch 55\n",
      "Epoch 55/200\n",
      "\u001b[1m200/200\u001b[0m \u001b[32m━━━━━━━━━━━━━━━━━━━━\u001b[0m\u001b[37m\u001b[0m \u001b[1m36s\u001b[0m 172ms/step - accuracy: 0.9513 - loss: 0.1322 - val_accuracy: 0.8875 - val_loss: 0.2909 - learning_rate: 2.1258e-05\n",
      "Starting epoch 56\n",
      "Epoch 56/200\n",
      "\u001b[1m200/200\u001b[0m \u001b[32m━━━━━━━━━━━━━━━━━━━━\u001b[0m\u001b[37m\u001b[0m \u001b[1m35s\u001b[0m 170ms/step - accuracy: 0.9532 - loss: 0.1455 - val_accuracy: 0.8487 - val_loss: 0.3852 - learning_rate: 2.1258e-05\n",
      "Starting epoch 57\n",
      "Epoch 57/200\n",
      "\u001b[1m200/200\u001b[0m \u001b[32m━━━━━━━━━━━━━━━━━━━━\u001b[0m\u001b[37m\u001b[0m \u001b[1m35s\u001b[0m 170ms/step - accuracy: 0.9558 - loss: 0.1358 - val_accuracy: 0.8913 - val_loss: 0.2958 - learning_rate: 2.1258e-05\n",
      "Starting epoch 58\n",
      "Epoch 58/200\n",
      "\u001b[1m200/200\u001b[0m \u001b[32m━━━━━━━━━━━━━━━━━━━━\u001b[0m\u001b[37m\u001b[0m \u001b[1m36s\u001b[0m 174ms/step - accuracy: 0.9575 - loss: 0.1310 - val_accuracy: 0.8963 - val_loss: 0.2822 - learning_rate: 2.1258e-05\n",
      "Starting epoch 59\n",
      "Epoch 59/200\n",
      "\u001b[1m200/200\u001b[0m \u001b[32m━━━━━━━━━━━━━━━━━━━━\u001b[0m\u001b[37m\u001b[0m \u001b[1m36s\u001b[0m 173ms/step - accuracy: 0.9596 - loss: 0.1253 - val_accuracy: 0.8975 - val_loss: 0.2810 - learning_rate: 2.1258e-05\n",
      "Starting epoch 60\n",
      "Epoch 60/200\n",
      "\u001b[1m200/200\u001b[0m \u001b[32m━━━━━━━━━━━━━━━━━━━━\u001b[0m\u001b[37m\u001b[0m \u001b[1m35s\u001b[0m 169ms/step - accuracy: 0.9544 - loss: 0.1353 - val_accuracy: 0.8938 - val_loss: 0.2826 - learning_rate: 2.1258e-05\n",
      "Starting epoch 61\n",
      "Epoch 61/200\n",
      "\u001b[1m200/200\u001b[0m \u001b[32m━━━━━━━━━━━━━━━━━━━━\u001b[0m\u001b[37m\u001b[0m \u001b[1m35s\u001b[0m 171ms/step - accuracy: 0.9504 - loss: 0.1312 - val_accuracy: 0.8938 - val_loss: 0.2923 - learning_rate: 1.9132e-05\n",
      "Starting epoch 62\n",
      "Epoch 62/200\n",
      "\u001b[1m200/200\u001b[0m \u001b[32m━━━━━━━━━━━━━━━━━━━━\u001b[0m\u001b[37m\u001b[0m \u001b[1m36s\u001b[0m 172ms/step - accuracy: 0.9632 - loss: 0.1168 - val_accuracy: 0.8788 - val_loss: 0.3208 - learning_rate: 1.9132e-05\n",
      "Starting epoch 63\n",
      "Epoch 63/200\n",
      "\u001b[1m200/200\u001b[0m \u001b[32m━━━━━━━━━━━━━━━━━━━━\u001b[0m\u001b[37m\u001b[0m \u001b[1m36s\u001b[0m 170ms/step - accuracy: 0.9535 - loss: 0.1274 - val_accuracy: 0.8988 - val_loss: 0.2840 - learning_rate: 1.9132e-05\n",
      "Starting epoch 64\n",
      "Epoch 64/200\n",
      "\u001b[1m200/200\u001b[0m \u001b[32m━━━━━━━━━━━━━━━━━━━━\u001b[0m\u001b[37m\u001b[0m \u001b[1m35s\u001b[0m 171ms/step - accuracy: 0.9578 - loss: 0.1236 - val_accuracy: 0.8087 - val_loss: 0.5311 - learning_rate: 3.8264e-06\n",
      "Starting epoch 65\n",
      "Epoch 65/200\n",
      "\u001b[1m200/200\u001b[0m \u001b[32m━━━━━━━━━━━━━━━━━━━━\u001b[0m\u001b[37m\u001b[0m \u001b[1m35s\u001b[0m 171ms/step - accuracy: 0.9547 - loss: 0.1388 - val_accuracy: 0.8863 - val_loss: 0.2998 - learning_rate: 3.8264e-06\n",
      "Starting epoch 66\n",
      "Epoch 66/200\n",
      "\u001b[1m200/200\u001b[0m \u001b[32m━━━━━━━━━━━━━━━━━━━━\u001b[0m\u001b[37m\u001b[0m \u001b[1m35s\u001b[0m 171ms/step - accuracy: 0.9631 - loss: 0.1162 - val_accuracy: 0.8975 - val_loss: 0.2867 - learning_rate: 3.8264e-06\n",
      "Starting epoch 67\n",
      "Epoch 67/200\n",
      "\u001b[1m200/200\u001b[0m \u001b[32m━━━━━━━━━━━━━━━━━━━━\u001b[0m\u001b[37m\u001b[0m \u001b[1m41s\u001b[0m 170ms/step - accuracy: 0.9552 - loss: 0.1343 - val_accuracy: 0.8850 - val_loss: 0.2938 - learning_rate: 3.8264e-06\n",
      "Starting epoch 68\n",
      "Epoch 68/200\n",
      "\u001b[1m200/200\u001b[0m \u001b[32m━━━━━━━━━━━━━━━━━━━━\u001b[0m\u001b[37m\u001b[0m \u001b[1m36s\u001b[0m 172ms/step - accuracy: 0.9601 - loss: 0.1276 - val_accuracy: 0.8875 - val_loss: 0.2938 - learning_rate: 3.8264e-06\n",
      "Starting epoch 69\n",
      "Epoch 69/200\n",
      "\u001b[1m200/200\u001b[0m \u001b[32m━━━━━━━━━━━━━━━━━━━━\u001b[0m\u001b[37m\u001b[0m \u001b[1m35s\u001b[0m 171ms/step - accuracy: 0.9545 - loss: 0.1249 - val_accuracy: 0.8863 - val_loss: 0.2901 - learning_rate: 1.0000e-06\n",
      "Metrics saved to Adam_metrics_VGG16.csv\n",
      "Metrics saved to summary_metrics_VGG16.csv\n",
      "Metrics saved to best_optimizer_metrics_Adam_VGG16.csv\n"
     ]
    }
   ],
   "source": [
    "optimizers = define_optimizers()\n",
    "summary_results = []\n",
    "best_optimizer = None\n",
    "best_val_accuracy = 0.0\n",
    "\n",
    "for name, optimizer in optimizers.items():\n",
    "    model = create_custom_model(model_name, num_layers_to_train, num_classes ,optimizer=optimizer)\n",
    "    history, training_time, test_loss, test_accuracy = train_and_evaluate(\n",
    "        model, train_generator, val_generator, test_generator, callbacks, batch_size=256\n",
    "    )\n",
    "\n",
    "    metrics = collect_metrics(history, training_time, test_loss, test_accuracy, model_name)\n",
    "    metrics['Optimizer'] = name\n",
    "    \n",
    "    save_metrics(metrics, f\"{name}_metrics_{model_name}.csv\")\n",
    "    \n",
    "    mean_metrics = calculate_mean_metrics(metrics)\n",
    "    summary_results.append(mean_metrics)\n",
    "\n",
    "    if test_accuracy > best_val_accuracy:\n",
    "        best_val_accuracy = test_accuracy\n",
    "        best_optimizer = name\n",
    "\n",
    "summary_df = pd.DataFrame(summary_results)\n",
    "save_metrics(summary_df, f\"summary_metrics_{model_name}.csv\")\n",
    "\n",
    "if best_optimizer:\n",
    "    best_metrics_df = pd.read_csv(f\"{best_optimizer}_metrics_{model_name}.csv\")\n",
    "    save_metrics(best_metrics_df, f\"best_optimizer_metrics_{best_optimizer}_{model_name}.csv\")"
   ]
  },
  {
   "cell_type": "code",
   "execution_count": 13,
   "id": "1a69b66f",
   "metadata": {
    "execution": {
     "iopub.execute_input": "2024-07-29T16:27:09.103701Z",
     "iopub.status.busy": "2024-07-29T16:27:09.103298Z",
     "iopub.status.idle": "2024-07-29T16:27:09.124338Z",
     "shell.execute_reply": "2024-07-29T16:27:09.123391Z"
    },
    "papermill": {
     "duration": 1.235166,
     "end_time": "2024-07-29T16:27:09.126230",
     "exception": false,
     "start_time": "2024-07-29T16:27:07.891064",
     "status": "completed"
    },
    "tags": []
   },
   "outputs": [
    {
     "data": {
      "text/html": [
       "<div>\n",
       "<style scoped>\n",
       "    .dataframe tbody tr th:only-of-type {\n",
       "        vertical-align: middle;\n",
       "    }\n",
       "\n",
       "    .dataframe tbody tr th {\n",
       "        vertical-align: top;\n",
       "    }\n",
       "\n",
       "    .dataframe thead th {\n",
       "        text-align: right;\n",
       "    }\n",
       "</style>\n",
       "<table border=\"1\" class=\"dataframe\">\n",
       "  <thead>\n",
       "    <tr style=\"text-align: right;\">\n",
       "      <th></th>\n",
       "      <th>Model Name</th>\n",
       "      <th>Optimizer</th>\n",
       "      <th>Mean_Train_Loss</th>\n",
       "      <th>Mean_Train_Accuracy</th>\n",
       "      <th>Mean_Val_Loss</th>\n",
       "      <th>Mean_Val_Accuracy</th>\n",
       "      <th>Total_Training_Time_Minutes</th>\n",
       "      <th>Test_Loss</th>\n",
       "      <th>Test_Accuracy</th>\n",
       "    </tr>\n",
       "  </thead>\n",
       "  <tbody>\n",
       "    <tr>\n",
       "      <th>0</th>\n",
       "      <td>VGG16</td>\n",
       "      <td>Adam</td>\n",
       "      <td>0.392136</td>\n",
       "      <td>0.830478</td>\n",
       "      <td>1.366194</td>\n",
       "      <td>0.725652</td>\n",
       "      <td>2895.173749</td>\n",
       "      <td>0.207316</td>\n",
       "      <td>0.91625</td>\n",
       "    </tr>\n",
       "  </tbody>\n",
       "</table>\n",
       "</div>"
      ],
      "text/plain": [
       "  Model Name Optimizer  Mean_Train_Loss  Mean_Train_Accuracy  Mean_Val_Loss  \\\n",
       "0      VGG16      Adam         0.392136             0.830478       1.366194   \n",
       "\n",
       "   Mean_Val_Accuracy  Total_Training_Time_Minutes  Test_Loss  Test_Accuracy  \n",
       "0           0.725652                  2895.173749   0.207316        0.91625  "
      ]
     },
     "execution_count": 13,
     "metadata": {},
     "output_type": "execute_result"
    }
   ],
   "source": [
    "summary_df"
   ]
  },
  {
   "cell_type": "code",
   "execution_count": 14,
   "id": "f93ce2cf",
   "metadata": {
    "execution": {
     "iopub.execute_input": "2024-07-29T16:27:11.540200Z",
     "iopub.status.busy": "2024-07-29T16:27:11.539580Z",
     "iopub.status.idle": "2024-07-29T16:27:11.554974Z",
     "shell.execute_reply": "2024-07-29T16:27:11.553904Z"
    },
    "id": "A5nHhp-HT9z_",
    "papermill": {
     "duration": 1.193291,
     "end_time": "2024-07-29T16:27:11.557276",
     "exception": false,
     "start_time": "2024-07-29T16:27:10.363985",
     "status": "completed"
    },
    "tags": []
   },
   "outputs": [
    {
     "data": {
      "text/html": [
       "<div>\n",
       "<style scoped>\n",
       "    .dataframe tbody tr th:only-of-type {\n",
       "        vertical-align: middle;\n",
       "    }\n",
       "\n",
       "    .dataframe tbody tr th {\n",
       "        vertical-align: top;\n",
       "    }\n",
       "\n",
       "    .dataframe thead th {\n",
       "        text-align: right;\n",
       "    }\n",
       "</style>\n",
       "<table border=\"1\" class=\"dataframe\">\n",
       "  <thead>\n",
       "    <tr style=\"text-align: right;\">\n",
       "      <th></th>\n",
       "      <th>Model Name</th>\n",
       "      <th>Optimizer</th>\n",
       "      <th>Mean_Train_Loss</th>\n",
       "      <th>Mean_Train_Accuracy</th>\n",
       "      <th>Mean_Val_Loss</th>\n",
       "      <th>Mean_Val_Accuracy</th>\n",
       "      <th>Total_Training_Time_Minutes</th>\n",
       "      <th>Test_Loss</th>\n",
       "      <th>Test_Accuracy</th>\n",
       "    </tr>\n",
       "  </thead>\n",
       "  <tbody>\n",
       "    <tr>\n",
       "      <th>0</th>\n",
       "      <td>VGG16</td>\n",
       "      <td>Adam</td>\n",
       "      <td>0.392136</td>\n",
       "      <td>0.830478</td>\n",
       "      <td>1.366194</td>\n",
       "      <td>0.725652</td>\n",
       "      <td>2895.173749</td>\n",
       "      <td>0.207316</td>\n",
       "      <td>0.91625</td>\n",
       "    </tr>\n",
       "  </tbody>\n",
       "</table>\n",
       "</div>"
      ],
      "text/plain": [
       "  Model Name Optimizer  Mean_Train_Loss  Mean_Train_Accuracy  Mean_Val_Loss  \\\n",
       "0      VGG16      Adam         0.392136             0.830478       1.366194   \n",
       "\n",
       "   Mean_Val_Accuracy  Total_Training_Time_Minutes  Test_Loss  Test_Accuracy  \n",
       "0           0.725652                  2895.173749   0.207316        0.91625  "
      ]
     },
     "metadata": {},
     "output_type": "display_data"
    }
   ],
   "source": [
    "display(summary_df)\n",
    "\n",
    "summary_df.to_csv('hyperparameter.csv', index=False)\n"
   ]
  },
  {
   "cell_type": "code",
   "execution_count": 15,
   "id": "43f9f3f9",
   "metadata": {
    "execution": {
     "iopub.execute_input": "2024-07-29T16:27:13.974401Z",
     "iopub.status.busy": "2024-07-29T16:27:13.974039Z",
     "iopub.status.idle": "2024-07-29T16:27:13.996651Z",
     "shell.execute_reply": "2024-07-29T16:27:13.995719Z"
    },
    "id": "DTYCS3__T_y0",
    "papermill": {
     "duration": 1.207129,
     "end_time": "2024-07-29T16:27:13.998595",
     "exception": false,
     "start_time": "2024-07-29T16:27:12.791466",
     "status": "completed"
    },
    "tags": []
   },
   "outputs": [
    {
     "data": {
      "text/html": [
       "<div>\n",
       "<style scoped>\n",
       "    .dataframe tbody tr th:only-of-type {\n",
       "        vertical-align: middle;\n",
       "    }\n",
       "\n",
       "    .dataframe tbody tr th {\n",
       "        vertical-align: top;\n",
       "    }\n",
       "\n",
       "    .dataframe thead th {\n",
       "        text-align: right;\n",
       "    }\n",
       "</style>\n",
       "<table border=\"1\" class=\"dataframe\">\n",
       "  <thead>\n",
       "    <tr style=\"text-align: right;\">\n",
       "      <th></th>\n",
       "      <th>Model Name</th>\n",
       "      <th>epoch</th>\n",
       "      <th>train_loss</th>\n",
       "      <th>train_accuracy</th>\n",
       "      <th>val_loss</th>\n",
       "      <th>val_accuracy</th>\n",
       "      <th>training_time_minutes</th>\n",
       "      <th>test_loss</th>\n",
       "      <th>test_accuracy</th>\n",
       "      <th>Optimizer</th>\n",
       "    </tr>\n",
       "  </thead>\n",
       "  <tbody>\n",
       "    <tr>\n",
       "      <th>0</th>\n",
       "      <td>VGG16</td>\n",
       "      <td>1</td>\n",
       "      <td>1.538781</td>\n",
       "      <td>0.287500</td>\n",
       "      <td>21.673141</td>\n",
       "      <td>0.25000</td>\n",
       "      <td>41.95904</td>\n",
       "      <td>0.207316</td>\n",
       "      <td>0.91625</td>\n",
       "      <td>Adam</td>\n",
       "    </tr>\n",
       "    <tr>\n",
       "      <th>1</th>\n",
       "      <td>VGG16</td>\n",
       "      <td>2</td>\n",
       "      <td>1.370775</td>\n",
       "      <td>0.341719</td>\n",
       "      <td>8.390051</td>\n",
       "      <td>0.25000</td>\n",
       "      <td>41.95904</td>\n",
       "      <td>0.207316</td>\n",
       "      <td>0.91625</td>\n",
       "      <td>Adam</td>\n",
       "    </tr>\n",
       "    <tr>\n",
       "      <th>2</th>\n",
       "      <td>VGG16</td>\n",
       "      <td>3</td>\n",
       "      <td>1.279129</td>\n",
       "      <td>0.404219</td>\n",
       "      <td>2.791252</td>\n",
       "      <td>0.24875</td>\n",
       "      <td>41.95904</td>\n",
       "      <td>0.207316</td>\n",
       "      <td>0.91625</td>\n",
       "      <td>Adam</td>\n",
       "    </tr>\n",
       "    <tr>\n",
       "      <th>3</th>\n",
       "      <td>VGG16</td>\n",
       "      <td>4</td>\n",
       "      <td>1.168500</td>\n",
       "      <td>0.461719</td>\n",
       "      <td>3.888798</td>\n",
       "      <td>0.25000</td>\n",
       "      <td>41.95904</td>\n",
       "      <td>0.207316</td>\n",
       "      <td>0.91625</td>\n",
       "      <td>Adam</td>\n",
       "    </tr>\n",
       "    <tr>\n",
       "      <th>4</th>\n",
       "      <td>VGG16</td>\n",
       "      <td>5</td>\n",
       "      <td>1.034032</td>\n",
       "      <td>0.521875</td>\n",
       "      <td>2.077402</td>\n",
       "      <td>0.38250</td>\n",
       "      <td>41.95904</td>\n",
       "      <td>0.207316</td>\n",
       "      <td>0.91625</td>\n",
       "      <td>Adam</td>\n",
       "    </tr>\n",
       "    <tr>\n",
       "      <th>...</th>\n",
       "      <td>...</td>\n",
       "      <td>...</td>\n",
       "      <td>...</td>\n",
       "      <td>...</td>\n",
       "      <td>...</td>\n",
       "      <td>...</td>\n",
       "      <td>...</td>\n",
       "      <td>...</td>\n",
       "      <td>...</td>\n",
       "      <td>...</td>\n",
       "    </tr>\n",
       "    <tr>\n",
       "      <th>64</th>\n",
       "      <td>VGG16</td>\n",
       "      <td>65</td>\n",
       "      <td>0.135074</td>\n",
       "      <td>0.955625</td>\n",
       "      <td>0.299778</td>\n",
       "      <td>0.88625</td>\n",
       "      <td>41.95904</td>\n",
       "      <td>0.207316</td>\n",
       "      <td>0.91625</td>\n",
       "      <td>Adam</td>\n",
       "    </tr>\n",
       "    <tr>\n",
       "      <th>65</th>\n",
       "      <td>VGG16</td>\n",
       "      <td>66</td>\n",
       "      <td>0.119885</td>\n",
       "      <td>0.960156</td>\n",
       "      <td>0.286747</td>\n",
       "      <td>0.89750</td>\n",
       "      <td>41.95904</td>\n",
       "      <td>0.207316</td>\n",
       "      <td>0.91625</td>\n",
       "      <td>Adam</td>\n",
       "    </tr>\n",
       "    <tr>\n",
       "      <th>66</th>\n",
       "      <td>VGG16</td>\n",
       "      <td>67</td>\n",
       "      <td>0.134532</td>\n",
       "      <td>0.954844</td>\n",
       "      <td>0.293823</td>\n",
       "      <td>0.88500</td>\n",
       "      <td>41.95904</td>\n",
       "      <td>0.207316</td>\n",
       "      <td>0.91625</td>\n",
       "      <td>Adam</td>\n",
       "    </tr>\n",
       "    <tr>\n",
       "      <th>67</th>\n",
       "      <td>VGG16</td>\n",
       "      <td>68</td>\n",
       "      <td>0.125549</td>\n",
       "      <td>0.960625</td>\n",
       "      <td>0.293801</td>\n",
       "      <td>0.88750</td>\n",
       "      <td>41.95904</td>\n",
       "      <td>0.207316</td>\n",
       "      <td>0.91625</td>\n",
       "      <td>Adam</td>\n",
       "    </tr>\n",
       "    <tr>\n",
       "      <th>68</th>\n",
       "      <td>VGG16</td>\n",
       "      <td>69</td>\n",
       "      <td>0.130154</td>\n",
       "      <td>0.953594</td>\n",
       "      <td>0.290062</td>\n",
       "      <td>0.88625</td>\n",
       "      <td>41.95904</td>\n",
       "      <td>0.207316</td>\n",
       "      <td>0.91625</td>\n",
       "      <td>Adam</td>\n",
       "    </tr>\n",
       "  </tbody>\n",
       "</table>\n",
       "<p>69 rows × 10 columns</p>\n",
       "</div>"
      ],
      "text/plain": [
       "   Model Name  epoch  train_loss  train_accuracy   val_loss  val_accuracy  \\\n",
       "0       VGG16      1    1.538781        0.287500  21.673141       0.25000   \n",
       "1       VGG16      2    1.370775        0.341719   8.390051       0.25000   \n",
       "2       VGG16      3    1.279129        0.404219   2.791252       0.24875   \n",
       "3       VGG16      4    1.168500        0.461719   3.888798       0.25000   \n",
       "4       VGG16      5    1.034032        0.521875   2.077402       0.38250   \n",
       "..        ...    ...         ...             ...        ...           ...   \n",
       "64      VGG16     65    0.135074        0.955625   0.299778       0.88625   \n",
       "65      VGG16     66    0.119885        0.960156   0.286747       0.89750   \n",
       "66      VGG16     67    0.134532        0.954844   0.293823       0.88500   \n",
       "67      VGG16     68    0.125549        0.960625   0.293801       0.88750   \n",
       "68      VGG16     69    0.130154        0.953594   0.290062       0.88625   \n",
       "\n",
       "    training_time_minutes  test_loss  test_accuracy Optimizer  \n",
       "0                41.95904   0.207316        0.91625      Adam  \n",
       "1                41.95904   0.207316        0.91625      Adam  \n",
       "2                41.95904   0.207316        0.91625      Adam  \n",
       "3                41.95904   0.207316        0.91625      Adam  \n",
       "4                41.95904   0.207316        0.91625      Adam  \n",
       "..                    ...        ...            ...       ...  \n",
       "64               41.95904   0.207316        0.91625      Adam  \n",
       "65               41.95904   0.207316        0.91625      Adam  \n",
       "66               41.95904   0.207316        0.91625      Adam  \n",
       "67               41.95904   0.207316        0.91625      Adam  \n",
       "68               41.95904   0.207316        0.91625      Adam  \n",
       "\n",
       "[69 rows x 10 columns]"
      ]
     },
     "execution_count": 15,
     "metadata": {},
     "output_type": "execute_result"
    }
   ],
   "source": [
    "best_metrics_df"
   ]
  },
  {
   "cell_type": "markdown",
   "id": "434705ea",
   "metadata": {
    "id": "z8BGlqaCWBU0",
    "papermill": {
     "duration": 1.198968,
     "end_time": "2024-07-29T16:27:16.429908",
     "exception": false,
     "start_time": "2024-07-29T16:27:15.230940",
     "status": "completed"
    },
    "tags": []
   },
   "source": [
    "# Evaluation"
   ]
  },
  {
   "cell_type": "code",
   "execution_count": 16,
   "id": "91552407",
   "metadata": {
    "execution": {
     "iopub.execute_input": "2024-07-29T16:27:18.873253Z",
     "iopub.status.busy": "2024-07-29T16:27:18.872323Z",
     "iopub.status.idle": "2024-07-29T16:27:58.247287Z",
     "shell.execute_reply": "2024-07-29T16:27:58.246468Z"
    },
    "papermill": {
     "duration": 40.57722,
     "end_time": "2024-07-29T16:27:58.249204",
     "exception": false,
     "start_time": "2024-07-29T16:27:17.671984",
     "status": "completed"
    },
    "tags": []
   },
   "outputs": [
    {
     "name": "stdout",
     "output_type": "stream",
     "text": [
      "\u001b[1m  2/200\u001b[0m \u001b[37m━━━━━━━━━━━━━━━━━━━━\u001b[0m \u001b[1m11s\u001b[0m 57ms/step - accuracy: 0.9766 - loss: 0.0655"
     ]
    },
    {
     "name": "stderr",
     "output_type": "stream",
     "text": [
      "W0000 00:00:1722270443.493978      97 graph_launch.cc:671] Fallback to op-by-op mode because memset node breaks graph update\n"
     ]
    },
    {
     "name": "stdout",
     "output_type": "stream",
     "text": [
      "\u001b[1m200/200\u001b[0m \u001b[32m━━━━━━━━━━━━━━━━━━━━\u001b[0m\u001b[37m\u001b[0m \u001b[1m33s\u001b[0m 159ms/step - accuracy: 0.9718 - loss: 0.0878\n",
      "\u001b[1m25/25\u001b[0m \u001b[32m━━━━━━━━━━━━━━━━━━━━\u001b[0m\u001b[37m\u001b[0m \u001b[1m1s\u001b[0m 51ms/step - accuracy: 0.8967 - loss: 0.2970\n",
      "\u001b[1m25/25\u001b[0m \u001b[32m━━━━━━━━━━━━━━━━━━━━\u001b[0m\u001b[37m\u001b[0m \u001b[1m1s\u001b[0m 55ms/step - accuracy: 0.9117 - loss: 0.2114\n"
     ]
    }
   ],
   "source": [
    "# evaluate model\n",
    "\n",
    "from tensorflow.keras.models import load_model\n",
    "\n",
    "model = load_model('./best_model.keras')\n",
    "evaluation = model.evaluate(train_generator)\n",
    "evaluation = model.evaluate(val_generator)\n",
    "evaluation = model.evaluate(test_generator)"
   ]
  },
  {
   "cell_type": "code",
   "execution_count": 17,
   "id": "cb628d71",
   "metadata": {
    "execution": {
     "iopub.execute_input": "2024-07-29T16:28:00.658150Z",
     "iopub.status.busy": "2024-07-29T16:28:00.657203Z",
     "iopub.status.idle": "2024-07-29T16:28:12.052135Z",
     "shell.execute_reply": "2024-07-29T16:28:12.051239Z"
    },
    "id": "_SnuewVJWylk",
    "outputId": "6c70671d-f0d2-4e90-d8ec-72bae7e687e4",
    "papermill": {
     "duration": 12.603683,
     "end_time": "2024-07-29T16:28:12.054409",
     "exception": false,
     "start_time": "2024-07-29T16:27:59.450726",
     "status": "completed"
    },
    "tags": []
   },
   "outputs": [
    {
     "name": "stdout",
     "output_type": "stream",
     "text": [
      "Number of training samples: 6400\n",
      "Number of validation samples: 800\n",
      "Number of testing samples: 800\n",
      "Number of classes: 4\n",
      "Class labels: ['MildDemented' 'ModerateDemented' 'NonDemented' 'VeryMildDemented']\n"
     ]
    }
   ],
   "source": [
    "import os\n",
    "import numpy as np\n",
    "from tensorflow.keras.preprocessing.image import load_img, img_to_array\n",
    "from sklearn.preprocessing import LabelEncoder\n",
    "\n",
    "def load_data(dataset_path):\n",
    "    # Paths to train, val, and test directories\n",
    "    train_path = os.path.join(dataset_path, 'train')\n",
    "    val_path = os.path.join(dataset_path, 'val')\n",
    "    test_path = os.path.join(dataset_path, 'test')\n",
    "\n",
    "    # Function to load images from a directory\n",
    "    def load_images_from_dir(dir_path, img_size=(128, 128)):  # Adjust size as needed\n",
    "        images = []\n",
    "        labels = []\n",
    "        for class_name in os.listdir(dir_path):\n",
    "            class_path = os.path.join(dir_path, class_name)\n",
    "            if os.path.isdir(class_path):\n",
    "                for img_name in os.listdir(class_path):\n",
    "                    img_path = os.path.join(class_path, img_name)\n",
    "                    img = load_img(img_path, target_size=img_size)\n",
    "                    img_array = img_to_array(img)\n",
    "                    images.append(img_array)\n",
    "                    labels.append(class_name)\n",
    "        return np.array(images), np.array(labels)\n",
    "\n",
    "    # Load images and labels\n",
    "    X_train, y_train = load_images_from_dir(train_path)\n",
    "    X_val, y_val = load_images_from_dir(val_path)\n",
    "    X_test, y_test = load_images_from_dir(test_path)\n",
    "\n",
    "    # Normalize the images\n",
    "    X_train = X_train / 255.0\n",
    "    X_val = X_val / 255.0\n",
    "    X_test = X_test / 255.0\n",
    "\n",
    "    # Encode the labels\n",
    "    le = LabelEncoder()\n",
    "    y_train = le.fit_transform(y_train)\n",
    "    y_val = le.transform(y_val)\n",
    "    y_test = le.transform(y_test)\n",
    "\n",
    "    # Save the label encoder for future use\n",
    "    np.save('label_encoder_classes.npy', le.classes_)\n",
    "\n",
    "    # Print some information\n",
    "    print(f\"Number of training samples: {len(X_train)}\")\n",
    "    print(f\"Number of validation samples: {len(X_val)}\")\n",
    "    print(f\"Number of testing samples: {len(X_test)}\")\n",
    "    print(f\"Number of classes: {len(le.classes_)}\")\n",
    "    print(f\"Class labels: {le.classes_}\")\n",
    "\n",
    "    return X_train, y_train, X_val, y_val, X_test, y_test,le.classes_\n",
    "\n",
    "# Usage:\n",
    "dataset_path = './Dataset'  # Replace with your actual path\n",
    "X_train, y_train, X_val, y_val, X_test, y_test,classes = load_data(dataset_path)"
   ]
  },
  {
   "cell_type": "code",
   "execution_count": 18,
   "id": "bb953bcd",
   "metadata": {
    "execution": {
     "iopub.execute_input": "2024-07-29T16:28:14.549568Z",
     "iopub.status.busy": "2024-07-29T16:28:14.548884Z",
     "iopub.status.idle": "2024-07-29T16:28:14.556679Z",
     "shell.execute_reply": "2024-07-29T16:28:14.555918Z"
    },
    "papermill": {
     "duration": 1.259883,
     "end_time": "2024-07-29T16:28:14.558836",
     "exception": false,
     "start_time": "2024-07-29T16:28:13.298953",
     "status": "completed"
    },
    "tags": []
   },
   "outputs": [],
   "source": [
    "import numpy as np\n",
    "import pandas as pd\n",
    "import os\n",
    "from time import time\n",
    "import seaborn as sns\n",
    "import matplotlib.pyplot as plt\n",
    "\n",
    "from sklearn.metrics import (\n",
    "    accuracy_score, precision_score, recall_score, f1_score,\n",
    "    cohen_kappa_score, log_loss, brier_score_loss,\n",
    "    classification_report, confusion_matrix, roc_curve, auc,\n",
    "    roc_auc_score\n",
    ")\n",
    "from sklearn.preprocessing import label_binarize\n",
    "\n",
    "from keras.models import load_model\n",
    "from keras.losses import categorical_crossentropy\n",
    "from keras.utils import to_categorical"
   ]
  },
  {
   "cell_type": "code",
   "execution_count": 19,
   "id": "d4a39bf7",
   "metadata": {
    "execution": {
     "iopub.execute_input": "2024-07-29T16:28:17.009326Z",
     "iopub.status.busy": "2024-07-29T16:28:17.008428Z",
     "iopub.status.idle": "2024-07-29T16:28:17.022531Z",
     "shell.execute_reply": "2024-07-29T16:28:17.021548Z"
    },
    "papermill": {
     "duration": 1.267671,
     "end_time": "2024-07-29T16:28:17.024426",
     "exception": false,
     "start_time": "2024-07-29T16:28:15.756755",
     "status": "completed"
    },
    "tags": []
   },
   "outputs": [
    {
     "data": {
      "text/html": [
       "<div>\n",
       "<style scoped>\n",
       "    .dataframe tbody tr th:only-of-type {\n",
       "        vertical-align: middle;\n",
       "    }\n",
       "\n",
       "    .dataframe tbody tr th {\n",
       "        vertical-align: top;\n",
       "    }\n",
       "\n",
       "    .dataframe thead th {\n",
       "        text-align: right;\n",
       "    }\n",
       "</style>\n",
       "<table border=\"1\" class=\"dataframe\">\n",
       "  <thead>\n",
       "    <tr style=\"text-align: right;\">\n",
       "      <th></th>\n",
       "      <th>Model Name</th>\n",
       "      <th>Number of Layers</th>\n",
       "      <th>Trainable Parameters</th>\n",
       "      <th>Non-Trainable Parameters</th>\n",
       "      <th>Activation Functions</th>\n",
       "    </tr>\n",
       "  </thead>\n",
       "  <tbody>\n",
       "    <tr>\n",
       "      <th>0</th>\n",
       "      <td>VGG16</td>\n",
       "      <td>27</td>\n",
       "      <td>15240468</td>\n",
       "      <td>160</td>\n",
       "      <td>Softmax</td>\n",
       "    </tr>\n",
       "  </tbody>\n",
       "</table>\n",
       "</div>"
      ],
      "text/plain": [
       "  Model Name  Number of Layers  Trainable Parameters  \\\n",
       "0      VGG16                27              15240468   \n",
       "\n",
       "   Non-Trainable Parameters Activation Functions  \n",
       "0                       160              Softmax  "
      ]
     },
     "execution_count": 19,
     "metadata": {},
     "output_type": "execute_result"
    }
   ],
   "source": [
    "# Model Information\n",
    "model_name = model_name \n",
    "num_layers = len(model.layers)\n",
    "trainable_params = model.count_params()\n",
    "non_trainable_params = sum([np.prod(v.shape) for v in model.non_trainable_weights])\n",
    "activation_functions = 'Softmax'  # Typically used for multiclass\n",
    "\n",
    "\n",
    "\n",
    "model_architecture = {\n",
    "    'Model Name': model_name,\n",
    "    'Number of Layers': num_layers,\n",
    "    'Trainable Parameters': trainable_params,\n",
    "    'Non-Trainable Parameters': non_trainable_params,\n",
    "    'Activation Functions': activation_functions\n",
    "}\n",
    "\n",
    "df_architecture = pd.DataFrame([model_architecture])\n",
    "df_architecture"
   ]
  },
  {
   "cell_type": "markdown",
   "id": "0b5ee596",
   "metadata": {
    "papermill": {
     "duration": 1.262203,
     "end_time": "2024-07-29T16:28:19.516752",
     "exception": false,
     "start_time": "2024-07-29T16:28:18.254549",
     "status": "completed"
    },
    "tags": []
   },
   "source": [
    "Training Config"
   ]
  },
  {
   "cell_type": "code",
   "execution_count": 20,
   "id": "509a3d37",
   "metadata": {
    "execution": {
     "iopub.execute_input": "2024-07-29T16:28:21.966332Z",
     "iopub.status.busy": "2024-07-29T16:28:21.965967Z",
     "iopub.status.idle": "2024-07-29T16:28:21.978830Z",
     "shell.execute_reply": "2024-07-29T16:28:21.977847Z"
    },
    "papermill": {
     "duration": 1.268008,
     "end_time": "2024-07-29T16:28:21.980956",
     "exception": false,
     "start_time": "2024-07-29T16:28:20.712948",
     "status": "completed"
    },
    "tags": []
   },
   "outputs": [
    {
     "data": {
      "text/html": [
       "<div>\n",
       "<style scoped>\n",
       "    .dataframe tbody tr th:only-of-type {\n",
       "        vertical-align: middle;\n",
       "    }\n",
       "\n",
       "    .dataframe tbody tr th {\n",
       "        vertical-align: top;\n",
       "    }\n",
       "\n",
       "    .dataframe thead th {\n",
       "        text-align: right;\n",
       "    }\n",
       "</style>\n",
       "<table border=\"1\" class=\"dataframe\">\n",
       "  <thead>\n",
       "    <tr style=\"text-align: right;\">\n",
       "      <th></th>\n",
       "      <th>Optimizer</th>\n",
       "      <th>Loss Function</th>\n",
       "      <th>Final Epoch</th>\n",
       "      <th>Training Time (minutes)</th>\n",
       "    </tr>\n",
       "  </thead>\n",
       "  <tbody>\n",
       "    <tr>\n",
       "      <th>0</th>\n",
       "      <td>Adam</td>\n",
       "      <td>Categorical Crossentropy</td>\n",
       "      <td>69</td>\n",
       "      <td>41.95904</td>\n",
       "    </tr>\n",
       "  </tbody>\n",
       "</table>\n",
       "</div>"
      ],
      "text/plain": [
       "  Optimizer             Loss Function  Final Epoch  Training Time (minutes)\n",
       "0      Adam  Categorical Crossentropy           69                 41.95904"
      ]
     },
     "execution_count": 20,
     "metadata": {},
     "output_type": "execute_result"
    }
   ],
   "source": [
    "\n",
    "optimizer = best_optimizer  # Assuming this is defined elsewhere\n",
    "loss_function = 'Categorical Crossentropy'\n",
    "time_taken_minutes = metrics['training_time_minutes'][-1]\n",
    "final_epoch = best_metrics_df['epoch'].values[-1] \n",
    "\n",
    "# 2. Training Configuration\n",
    "training_config = {\n",
    "    'Optimizer': optimizer,\n",
    "    'Loss Function': loss_function,\n",
    "    'Final Epoch': final_epoch,\n",
    "    'Training Time (minutes)': time_taken_minutes\n",
    "}\n",
    "df_training = pd.DataFrame([training_config])\n",
    "df_training\n"
   ]
  },
  {
   "cell_type": "markdown",
   "id": "698c560c",
   "metadata": {
    "papermill": {
     "duration": 1.200792,
     "end_time": "2024-07-29T16:28:24.536743",
     "exception": false,
     "start_time": "2024-07-29T16:28:23.335951",
     "status": "completed"
    },
    "tags": []
   },
   "source": [
    "Main Performance Metrics"
   ]
  },
  {
   "cell_type": "code",
   "execution_count": 21,
   "id": "736210ac",
   "metadata": {
    "execution": {
     "iopub.execute_input": "2024-07-29T16:28:26.984791Z",
     "iopub.status.busy": "2024-07-29T16:28:26.984416Z",
     "iopub.status.idle": "2024-07-29T16:28:30.478866Z",
     "shell.execute_reply": "2024-07-29T16:28:30.477731Z"
    },
    "papermill": {
     "duration": 4.684633,
     "end_time": "2024-07-29T16:28:30.480882",
     "exception": false,
     "start_time": "2024-07-29T16:28:25.796249",
     "status": "completed"
    },
    "tags": []
   },
   "outputs": [
    {
     "name": "stdout",
     "output_type": "stream",
     "text": [
      "\u001b[1m25/25\u001b[0m \u001b[32m━━━━━━━━━━━━━━━━━━━━\u001b[0m\u001b[37m\u001b[0m \u001b[1m1s\u001b[0m 41ms/step - accuracy: 0.9558 - loss: 0.1127\n",
      "\u001b[1m 5/25\u001b[0m \u001b[32m━━━━\u001b[0m\u001b[37m━━━━━━━━━━━━━━━━\u001b[0m \u001b[1m0s\u001b[0m 34ms/step"
     ]
    },
    {
     "name": "stderr",
     "output_type": "stream",
     "text": [
      "W0000 00:00:1722270509.526588      99 graph_launch.cc:671] Fallback to op-by-op mode because memset node breaks graph update\n"
     ]
    },
    {
     "name": "stdout",
     "output_type": "stream",
     "text": [
      "\u001b[1m25/25\u001b[0m \u001b[32m━━━━━━━━━━━━━━━━━━━━\u001b[0m\u001b[37m\u001b[0m \u001b[1m2s\u001b[0m 36ms/step\n",
      "Accuracy: 0.91875\n",
      "Precision Macro: 0.9198953080057393\n",
      "Recall Macro: 0.91875\n",
      "F1 Macro: 0.9192037687228709\n",
      " \n",
      "Precision Weighted: 0.919895308005739\n",
      "Recall Weighted: 0.91875\n",
      "F1 Weighted: 0.9192037687228711\n",
      "Cohen Kappa: 0.8916666666666666\n"
     ]
    }
   ],
   "source": [
    "num_classes = len(folders)\n",
    "# Convert test labels to one-hot encoding\n",
    "y_test_one_hot = to_categorical(y_test, num_classes)\n",
    "\n",
    "# Evaluate model on test set\n",
    "test_loss, test_acc = model.evaluate(X_test, y_test_one_hot, verbose=1)\n",
    "\n",
    "# Make predictions\n",
    "y_pred_probabilities = model.predict(X_test)\n",
    "y_pred = np.argmax(y_pred_probabilities, axis=1)\n",
    "\n",
    "# Get the number of classes\n",
    "n_classes = y_pred_probabilities.shape[1]\n",
    "\n",
    "# Compute metrics\n",
    "accuracy = accuracy_score(y_test, y_pred)\n",
    "precision_macro = precision_score(y_test, y_pred, average='macro')\n",
    "recall_macro = recall_score(y_test, y_pred, average='macro')\n",
    "f1_macro = f1_score(y_test, y_pred, average='macro')\n",
    "precision_weighted = precision_score(y_test, y_pred, average='weighted')\n",
    "recall_weighted = recall_score(y_test, y_pred, average='weighted')\n",
    "f1_weighted = f1_score(y_test, y_pred, average='weighted')\n",
    "cohen_kappa = cohen_kappa_score(y_test, y_pred)\n",
    "\n",
    "print(f\"Accuracy: {accuracy}\")\n",
    "print(f\"Precision Macro: {precision_macro}\")\n",
    "print(f\"Recall Macro: {recall_macro}\")\n",
    "print(f\"F1 Macro: {f1_macro}\")\n",
    "print(\" \")\n",
    "print(f\"Precision Weighted: {precision_weighted}\")\n",
    "print(f\"Recall Weighted: {recall_weighted}\")\n",
    "print(f\"F1 Weighted: {f1_weighted}\")\n",
    "\n",
    "print(f\"Cohen Kappa: {cohen_kappa}\")"
   ]
  },
  {
   "cell_type": "markdown",
   "id": "7c7e97de",
   "metadata": {
    "papermill": {
     "duration": 1.254816,
     "end_time": "2024-07-29T16:28:32.986853",
     "exception": false,
     "start_time": "2024-07-29T16:28:31.732037",
     "status": "completed"
    },
    "tags": []
   },
   "source": [
    "Probability based metrics"
   ]
  },
  {
   "cell_type": "code",
   "execution_count": 22,
   "id": "eb35f1fc",
   "metadata": {
    "execution": {
     "iopub.execute_input": "2024-07-29T16:28:35.471563Z",
     "iopub.status.busy": "2024-07-29T16:28:35.471183Z",
     "iopub.status.idle": "2024-07-29T16:28:35.487781Z",
     "shell.execute_reply": "2024-07-29T16:28:35.486522Z"
    },
    "papermill": {
     "duration": 1.269691,
     "end_time": "2024-07-29T16:28:35.489775",
     "exception": false,
     "start_time": "2024-07-29T16:28:34.220084",
     "status": "completed"
    },
    "tags": []
   },
   "outputs": [
    {
     "name": "stdout",
     "output_type": "stream",
     "text": [
      "The Log Loss Value: 0.20270579738668082\n",
      "Brier Score: 0.03024275019202328\n",
      "ROC-AUC overall: 0.9868145833333333\n"
     ]
    }
   ],
   "source": [
    "# Log loss (requires probabilities)\n",
    "log_loss_value = log_loss(y_test, y_pred_probabilities)\n",
    "\n",
    "# Brier score (requires binarized labels for multiclass)\n",
    "y_test_bin = label_binarize(y_test, classes=range(n_classes))\n",
    "brier_score = brier_score_loss(y_test_bin.ravel(), y_pred_probabilities.ravel())\n",
    "\n",
    "# ROC AUC score (One-vs-Rest)\n",
    "roc_auc_ovr = roc_auc_score(y_test_bin, y_pred_probabilities, multi_class='ovr', average='macro')\n",
    "\n",
    "\n",
    "print(f\"The Log Loss Value: {log_loss_value}\")\n",
    "print(f\"Brier Score: {brier_score}\")\n",
    "print(f\"ROC-AUC overall: {roc_auc_ovr}\")"
   ]
  },
  {
   "cell_type": "markdown",
   "id": "41a0d4a5",
   "metadata": {
    "papermill": {
     "duration": 1.277221,
     "end_time": "2024-07-29T16:28:37.971896",
     "exception": false,
     "start_time": "2024-07-29T16:28:36.694675",
     "status": "completed"
    },
    "tags": []
   },
   "source": [
    "Model Size and inference"
   ]
  },
  {
   "cell_type": "code",
   "execution_count": 23,
   "id": "6b2812c3",
   "metadata": {
    "execution": {
     "iopub.execute_input": "2024-07-29T16:28:40.434247Z",
     "iopub.status.busy": "2024-07-29T16:28:40.433875Z",
     "iopub.status.idle": "2024-07-29T16:28:50.114234Z",
     "shell.execute_reply": "2024-07-29T16:28:50.113531Z"
    },
    "papermill": {
     "duration": 10.952832,
     "end_time": "2024-07-29T16:28:50.116167",
     "exception": false,
     "start_time": "2024-07-29T16:28:39.163335",
     "status": "completed"
    },
    "tags": []
   },
   "outputs": [
    {
     "name": "stdout",
     "output_type": "stream",
     "text": [
      "\u001b[1m1/1\u001b[0m \u001b[32m━━━━━━━━━━━━━━━━━━━━\u001b[0m\u001b[37m\u001b[0m \u001b[1m3s\u001b[0m 3s/step\n",
      "\u001b[1m1/1\u001b[0m \u001b[32m━━━━━━━━━━━━━━━━━━━━\u001b[0m\u001b[37m\u001b[0m \u001b[1m0s\u001b[0m 19ms/step\n",
      "\u001b[1m1/1\u001b[0m \u001b[32m━━━━━━━━━━━━━━━━━━━━\u001b[0m\u001b[37m\u001b[0m \u001b[1m0s\u001b[0m 18ms/step\n",
      "\u001b[1m1/1\u001b[0m \u001b[32m━━━━━━━━━━━━━━━━━━━━\u001b[0m\u001b[37m\u001b[0m \u001b[1m0s\u001b[0m 16ms/step\n",
      "\u001b[1m1/1\u001b[0m \u001b[32m━━━━━━━━━━━━━━━━━━━━\u001b[0m\u001b[37m\u001b[0m \u001b[1m0s\u001b[0m 18ms/step\n",
      "\u001b[1m1/1\u001b[0m \u001b[32m━━━━━━━━━━━━━━━━━━━━\u001b[0m\u001b[37m\u001b[0m \u001b[1m0s\u001b[0m 17ms/step\n",
      "\u001b[1m1/1\u001b[0m \u001b[32m━━━━━━━━━━━━━━━━━━━━\u001b[0m\u001b[37m\u001b[0m \u001b[1m0s\u001b[0m 17ms/step\n",
      "\u001b[1m1/1\u001b[0m \u001b[32m━━━━━━━━━━━━━━━━━━━━\u001b[0m\u001b[37m\u001b[0m \u001b[1m0s\u001b[0m 18ms/step\n",
      "\u001b[1m1/1\u001b[0m \u001b[32m━━━━━━━━━━━━━━━━━━━━\u001b[0m\u001b[37m\u001b[0m \u001b[1m0s\u001b[0m 17ms/step\n",
      "\u001b[1m1/1\u001b[0m \u001b[32m━━━━━━━━━━━━━━━━━━━━\u001b[0m\u001b[37m\u001b[0m \u001b[1m0s\u001b[0m 19ms/step\n",
      "\u001b[1m1/1\u001b[0m \u001b[32m━━━━━━━━━━━━━━━━━━━━\u001b[0m\u001b[37m\u001b[0m \u001b[1m0s\u001b[0m 19ms/step\n",
      "\u001b[1m1/1\u001b[0m \u001b[32m━━━━━━━━━━━━━━━━━━━━\u001b[0m\u001b[37m\u001b[0m \u001b[1m0s\u001b[0m 17ms/step\n",
      "\u001b[1m1/1\u001b[0m \u001b[32m━━━━━━━━━━━━━━━━━━━━\u001b[0m\u001b[37m\u001b[0m \u001b[1m0s\u001b[0m 19ms/step\n",
      "\u001b[1m1/1\u001b[0m \u001b[32m━━━━━━━━━━━━━━━━━━━━\u001b[0m\u001b[37m\u001b[0m \u001b[1m0s\u001b[0m 17ms/step\n",
      "\u001b[1m1/1\u001b[0m \u001b[32m━━━━━━━━━━━━━━━━━━━━\u001b[0m\u001b[37m\u001b[0m \u001b[1m0s\u001b[0m 18ms/step\n",
      "\u001b[1m1/1\u001b[0m \u001b[32m━━━━━━━━━━━━━━━━━━━━\u001b[0m\u001b[37m\u001b[0m \u001b[1m0s\u001b[0m 17ms/step\n",
      "\u001b[1m1/1\u001b[0m \u001b[32m━━━━━━━━━━━━━━━━━━━━\u001b[0m\u001b[37m\u001b[0m \u001b[1m0s\u001b[0m 17ms/step\n",
      "\u001b[1m1/1\u001b[0m \u001b[32m━━━━━━━━━━━━━━━━━━━━\u001b[0m\u001b[37m\u001b[0m \u001b[1m0s\u001b[0m 18ms/step\n",
      "\u001b[1m1/1\u001b[0m \u001b[32m━━━━━━━━━━━━━━━━━━━━\u001b[0m\u001b[37m\u001b[0m \u001b[1m0s\u001b[0m 17ms/step\n",
      "\u001b[1m1/1\u001b[0m \u001b[32m━━━━━━━━━━━━━━━━━━━━\u001b[0m\u001b[37m\u001b[0m \u001b[1m0s\u001b[0m 18ms/step\n",
      "\u001b[1m1/1\u001b[0m \u001b[32m━━━━━━━━━━━━━━━━━━━━\u001b[0m\u001b[37m\u001b[0m \u001b[1m0s\u001b[0m 17ms/step\n",
      "\u001b[1m1/1\u001b[0m \u001b[32m━━━━━━━━━━━━━━━━━━━━\u001b[0m\u001b[37m\u001b[0m \u001b[1m0s\u001b[0m 18ms/step\n",
      "\u001b[1m1/1\u001b[0m \u001b[32m━━━━━━━━━━━━━━━━━━━━\u001b[0m\u001b[37m\u001b[0m \u001b[1m0s\u001b[0m 18ms/step\n",
      "\u001b[1m1/1\u001b[0m \u001b[32m━━━━━━━━━━━━━━━━━━━━\u001b[0m\u001b[37m\u001b[0m \u001b[1m0s\u001b[0m 19ms/step\n",
      "\u001b[1m1/1\u001b[0m \u001b[32m━━━━━━━━━━━━━━━━━━━━\u001b[0m\u001b[37m\u001b[0m \u001b[1m0s\u001b[0m 18ms/step\n",
      "\u001b[1m1/1\u001b[0m \u001b[32m━━━━━━━━━━━━━━━━━━━━\u001b[0m\u001b[37m\u001b[0m \u001b[1m0s\u001b[0m 18ms/step\n",
      "\u001b[1m1/1\u001b[0m \u001b[32m━━━━━━━━━━━━━━━━━━━━\u001b[0m\u001b[37m\u001b[0m \u001b[1m0s\u001b[0m 19ms/step\n",
      "\u001b[1m1/1\u001b[0m \u001b[32m━━━━━━━━━━━━━━━━━━━━\u001b[0m\u001b[37m\u001b[0m \u001b[1m0s\u001b[0m 18ms/step\n",
      "\u001b[1m1/1\u001b[0m \u001b[32m━━━━━━━━━━━━━━━━━━━━\u001b[0m\u001b[37m\u001b[0m \u001b[1m0s\u001b[0m 18ms/step\n",
      "\u001b[1m1/1\u001b[0m \u001b[32m━━━━━━━━━━━━━━━━━━━━\u001b[0m\u001b[37m\u001b[0m \u001b[1m0s\u001b[0m 19ms/step\n",
      "\u001b[1m1/1\u001b[0m \u001b[32m━━━━━━━━━━━━━━━━━━━━\u001b[0m\u001b[37m\u001b[0m \u001b[1m0s\u001b[0m 19ms/step\n",
      "\u001b[1m1/1\u001b[0m \u001b[32m━━━━━━━━━━━━━━━━━━━━\u001b[0m\u001b[37m\u001b[0m \u001b[1m0s\u001b[0m 17ms/step\n",
      "\u001b[1m1/1\u001b[0m \u001b[32m━━━━━━━━━━━━━━━━━━━━\u001b[0m\u001b[37m\u001b[0m \u001b[1m0s\u001b[0m 17ms/step\n",
      "\u001b[1m1/1\u001b[0m \u001b[32m━━━━━━━━━━━━━━━━━━━━\u001b[0m\u001b[37m\u001b[0m \u001b[1m0s\u001b[0m 18ms/step\n",
      "\u001b[1m1/1\u001b[0m \u001b[32m━━━━━━━━━━━━━━━━━━━━\u001b[0m\u001b[37m\u001b[0m \u001b[1m0s\u001b[0m 18ms/step\n",
      "\u001b[1m1/1\u001b[0m \u001b[32m━━━━━━━━━━━━━━━━━━━━\u001b[0m\u001b[37m\u001b[0m \u001b[1m0s\u001b[0m 18ms/step\n",
      "\u001b[1m1/1\u001b[0m \u001b[32m━━━━━━━━━━━━━━━━━━━━\u001b[0m\u001b[37m\u001b[0m \u001b[1m0s\u001b[0m 18ms/step\n",
      "\u001b[1m1/1\u001b[0m \u001b[32m━━━━━━━━━━━━━━━━━━━━\u001b[0m\u001b[37m\u001b[0m \u001b[1m0s\u001b[0m 18ms/step\n",
      "\u001b[1m1/1\u001b[0m \u001b[32m━━━━━━━━━━━━━━━━━━━━\u001b[0m\u001b[37m\u001b[0m \u001b[1m0s\u001b[0m 19ms/step\n",
      "\u001b[1m1/1\u001b[0m \u001b[32m━━━━━━━━━━━━━━━━━━━━\u001b[0m\u001b[37m\u001b[0m \u001b[1m0s\u001b[0m 17ms/step\n",
      "\u001b[1m1/1\u001b[0m \u001b[32m━━━━━━━━━━━━━━━━━━━━\u001b[0m\u001b[37m\u001b[0m \u001b[1m0s\u001b[0m 17ms/step\n",
      "\u001b[1m1/1\u001b[0m \u001b[32m━━━━━━━━━━━━━━━━━━━━\u001b[0m\u001b[37m\u001b[0m \u001b[1m0s\u001b[0m 17ms/step\n",
      "\u001b[1m1/1\u001b[0m \u001b[32m━━━━━━━━━━━━━━━━━━━━\u001b[0m\u001b[37m\u001b[0m \u001b[1m0s\u001b[0m 18ms/step\n",
      "\u001b[1m1/1\u001b[0m \u001b[32m━━━━━━━━━━━━━━━━━━━━\u001b[0m\u001b[37m\u001b[0m \u001b[1m0s\u001b[0m 18ms/step\n",
      "\u001b[1m1/1\u001b[0m \u001b[32m━━━━━━━━━━━━━━━━━━━━\u001b[0m\u001b[37m\u001b[0m \u001b[1m0s\u001b[0m 18ms/step\n",
      "\u001b[1m1/1\u001b[0m \u001b[32m━━━━━━━━━━━━━━━━━━━━\u001b[0m\u001b[37m\u001b[0m \u001b[1m0s\u001b[0m 18ms/step\n",
      "\u001b[1m1/1\u001b[0m \u001b[32m━━━━━━━━━━━━━━━━━━━━\u001b[0m\u001b[37m\u001b[0m \u001b[1m0s\u001b[0m 18ms/step\n",
      "\u001b[1m1/1\u001b[0m \u001b[32m━━━━━━━━━━━━━━━━━━━━\u001b[0m\u001b[37m\u001b[0m \u001b[1m0s\u001b[0m 18ms/step\n",
      "\u001b[1m1/1\u001b[0m \u001b[32m━━━━━━━━━━━━━━━━━━━━\u001b[0m\u001b[37m\u001b[0m \u001b[1m0s\u001b[0m 18ms/step\n",
      "\u001b[1m1/1\u001b[0m \u001b[32m━━━━━━━━━━━━━━━━━━━━\u001b[0m\u001b[37m\u001b[0m \u001b[1m0s\u001b[0m 17ms/step\n",
      "\u001b[1m1/1\u001b[0m \u001b[32m━━━━━━━━━━━━━━━━━━━━\u001b[0m\u001b[37m\u001b[0m \u001b[1m0s\u001b[0m 17ms/step\n",
      "\u001b[1m1/1\u001b[0m \u001b[32m━━━━━━━━━━━━━━━━━━━━\u001b[0m\u001b[37m\u001b[0m \u001b[1m0s\u001b[0m 18ms/step\n",
      "\u001b[1m1/1\u001b[0m \u001b[32m━━━━━━━━━━━━━━━━━━━━\u001b[0m\u001b[37m\u001b[0m \u001b[1m0s\u001b[0m 19ms/step\n",
      "\u001b[1m1/1\u001b[0m \u001b[32m━━━━━━━━━━━━━━━━━━━━\u001b[0m\u001b[37m\u001b[0m \u001b[1m0s\u001b[0m 18ms/step\n",
      "\u001b[1m1/1\u001b[0m \u001b[32m━━━━━━━━━━━━━━━━━━━━\u001b[0m\u001b[37m\u001b[0m \u001b[1m0s\u001b[0m 17ms/step\n",
      "\u001b[1m1/1\u001b[0m \u001b[32m━━━━━━━━━━━━━━━━━━━━\u001b[0m\u001b[37m\u001b[0m \u001b[1m0s\u001b[0m 17ms/step\n",
      "\u001b[1m1/1\u001b[0m \u001b[32m━━━━━━━━━━━━━━━━━━━━\u001b[0m\u001b[37m\u001b[0m \u001b[1m0s\u001b[0m 17ms/step\n",
      "\u001b[1m1/1\u001b[0m \u001b[32m━━━━━━━━━━━━━━━━━━━━\u001b[0m\u001b[37m\u001b[0m \u001b[1m0s\u001b[0m 18ms/step\n",
      "\u001b[1m1/1\u001b[0m \u001b[32m━━━━━━━━━━━━━━━━━━━━\u001b[0m\u001b[37m\u001b[0m \u001b[1m0s\u001b[0m 18ms/step\n",
      "\u001b[1m1/1\u001b[0m \u001b[32m━━━━━━━━━━━━━━━━━━━━\u001b[0m\u001b[37m\u001b[0m \u001b[1m0s\u001b[0m 17ms/step\n",
      "\u001b[1m1/1\u001b[0m \u001b[32m━━━━━━━━━━━━━━━━━━━━\u001b[0m\u001b[37m\u001b[0m \u001b[1m0s\u001b[0m 21ms/step\n",
      "\u001b[1m1/1\u001b[0m \u001b[32m━━━━━━━━━━━━━━━━━━━━\u001b[0m\u001b[37m\u001b[0m \u001b[1m0s\u001b[0m 21ms/step\n",
      "\u001b[1m1/1\u001b[0m \u001b[32m━━━━━━━━━━━━━━━━━━━━\u001b[0m\u001b[37m\u001b[0m \u001b[1m0s\u001b[0m 18ms/step\n",
      "\u001b[1m1/1\u001b[0m \u001b[32m━━━━━━━━━━━━━━━━━━━━\u001b[0m\u001b[37m\u001b[0m \u001b[1m0s\u001b[0m 18ms/step\n",
      "\u001b[1m1/1\u001b[0m \u001b[32m━━━━━━━━━━━━━━━━━━━━\u001b[0m\u001b[37m\u001b[0m \u001b[1m0s\u001b[0m 19ms/step\n",
      "\u001b[1m1/1\u001b[0m \u001b[32m━━━━━━━━━━━━━━━━━━━━\u001b[0m\u001b[37m\u001b[0m \u001b[1m0s\u001b[0m 17ms/step\n",
      "\u001b[1m1/1\u001b[0m \u001b[32m━━━━━━━━━━━━━━━━━━━━\u001b[0m\u001b[37m\u001b[0m \u001b[1m0s\u001b[0m 17ms/step\n",
      "\u001b[1m1/1\u001b[0m \u001b[32m━━━━━━━━━━━━━━━━━━━━\u001b[0m\u001b[37m\u001b[0m \u001b[1m0s\u001b[0m 18ms/step\n",
      "\u001b[1m1/1\u001b[0m \u001b[32m━━━━━━━━━━━━━━━━━━━━\u001b[0m\u001b[37m\u001b[0m \u001b[1m0s\u001b[0m 18ms/step\n",
      "\u001b[1m1/1\u001b[0m \u001b[32m━━━━━━━━━━━━━━━━━━━━\u001b[0m\u001b[37m\u001b[0m \u001b[1m0s\u001b[0m 19ms/step\n",
      "\u001b[1m1/1\u001b[0m \u001b[32m━━━━━━━━━━━━━━━━━━━━\u001b[0m\u001b[37m\u001b[0m \u001b[1m0s\u001b[0m 18ms/step\n",
      "\u001b[1m1/1\u001b[0m \u001b[32m━━━━━━━━━━━━━━━━━━━━\u001b[0m\u001b[37m\u001b[0m \u001b[1m0s\u001b[0m 18ms/step\n",
      "\u001b[1m1/1\u001b[0m \u001b[32m━━━━━━━━━━━━━━━━━━━━\u001b[0m\u001b[37m\u001b[0m \u001b[1m0s\u001b[0m 18ms/step\n",
      "\u001b[1m1/1\u001b[0m \u001b[32m━━━━━━━━━━━━━━━━━━━━\u001b[0m\u001b[37m\u001b[0m \u001b[1m0s\u001b[0m 21ms/step\n",
      "\u001b[1m1/1\u001b[0m \u001b[32m━━━━━━━━━━━━━━━━━━━━\u001b[0m\u001b[37m\u001b[0m \u001b[1m0s\u001b[0m 20ms/step\n",
      "\u001b[1m1/1\u001b[0m \u001b[32m━━━━━━━━━━━━━━━━━━━━\u001b[0m\u001b[37m\u001b[0m \u001b[1m0s\u001b[0m 18ms/step\n",
      "\u001b[1m1/1\u001b[0m \u001b[32m━━━━━━━━━━━━━━━━━━━━\u001b[0m\u001b[37m\u001b[0m \u001b[1m0s\u001b[0m 18ms/step\n",
      "\u001b[1m1/1\u001b[0m \u001b[32m━━━━━━━━━━━━━━━━━━━━\u001b[0m\u001b[37m\u001b[0m \u001b[1m0s\u001b[0m 19ms/step\n",
      "\u001b[1m1/1\u001b[0m \u001b[32m━━━━━━━━━━━━━━━━━━━━\u001b[0m\u001b[37m\u001b[0m \u001b[1m0s\u001b[0m 19ms/step\n",
      "\u001b[1m1/1\u001b[0m \u001b[32m━━━━━━━━━━━━━━━━━━━━\u001b[0m\u001b[37m\u001b[0m \u001b[1m0s\u001b[0m 17ms/step\n",
      "\u001b[1m1/1\u001b[0m \u001b[32m━━━━━━━━━━━━━━━━━━━━\u001b[0m\u001b[37m\u001b[0m \u001b[1m0s\u001b[0m 17ms/step\n",
      "\u001b[1m1/1\u001b[0m \u001b[32m━━━━━━━━━━━━━━━━━━━━\u001b[0m\u001b[37m\u001b[0m \u001b[1m0s\u001b[0m 18ms/step\n",
      "\u001b[1m1/1\u001b[0m \u001b[32m━━━━━━━━━━━━━━━━━━━━\u001b[0m\u001b[37m\u001b[0m \u001b[1m0s\u001b[0m 19ms/step\n",
      "\u001b[1m1/1\u001b[0m \u001b[32m━━━━━━━━━━━━━━━━━━━━\u001b[0m\u001b[37m\u001b[0m \u001b[1m0s\u001b[0m 18ms/step\n",
      "\u001b[1m1/1\u001b[0m \u001b[32m━━━━━━━━━━━━━━━━━━━━\u001b[0m\u001b[37m\u001b[0m \u001b[1m0s\u001b[0m 19ms/step\n",
      "\u001b[1m1/1\u001b[0m \u001b[32m━━━━━━━━━━━━━━━━━━━━\u001b[0m\u001b[37m\u001b[0m \u001b[1m0s\u001b[0m 18ms/step\n",
      "\u001b[1m1/1\u001b[0m \u001b[32m━━━━━━━━━━━━━━━━━━━━\u001b[0m\u001b[37m\u001b[0m \u001b[1m0s\u001b[0m 18ms/step\n",
      "\u001b[1m1/1\u001b[0m \u001b[32m━━━━━━━━━━━━━━━━━━━━\u001b[0m\u001b[37m\u001b[0m \u001b[1m0s\u001b[0m 18ms/step\n",
      "\u001b[1m1/1\u001b[0m \u001b[32m━━━━━━━━━━━━━━━━━━━━\u001b[0m\u001b[37m\u001b[0m \u001b[1m0s\u001b[0m 18ms/step\n",
      "\u001b[1m1/1\u001b[0m \u001b[32m━━━━━━━━━━━━━━━━━━━━\u001b[0m\u001b[37m\u001b[0m \u001b[1m0s\u001b[0m 19ms/step\n",
      "\u001b[1m1/1\u001b[0m \u001b[32m━━━━━━━━━━━━━━━━━━━━\u001b[0m\u001b[37m\u001b[0m \u001b[1m0s\u001b[0m 18ms/step\n",
      "\u001b[1m1/1\u001b[0m \u001b[32m━━━━━━━━━━━━━━━━━━━━\u001b[0m\u001b[37m\u001b[0m \u001b[1m0s\u001b[0m 19ms/step\n",
      "\u001b[1m1/1\u001b[0m \u001b[32m━━━━━━━━━━━━━━━━━━━━\u001b[0m\u001b[37m\u001b[0m \u001b[1m0s\u001b[0m 18ms/step\n",
      "\u001b[1m1/1\u001b[0m \u001b[32m━━━━━━━━━━━━━━━━━━━━\u001b[0m\u001b[37m\u001b[0m \u001b[1m0s\u001b[0m 19ms/step\n",
      "\u001b[1m1/1\u001b[0m \u001b[32m━━━━━━━━━━━━━━━━━━━━\u001b[0m\u001b[37m\u001b[0m \u001b[1m0s\u001b[0m 19ms/step\n",
      "\u001b[1m1/1\u001b[0m \u001b[32m━━━━━━━━━━━━━━━━━━━━\u001b[0m\u001b[37m\u001b[0m \u001b[1m0s\u001b[0m 19ms/step\n",
      "\u001b[1m1/1\u001b[0m \u001b[32m━━━━━━━━━━━━━━━━━━━━\u001b[0m\u001b[37m\u001b[0m \u001b[1m0s\u001b[0m 18ms/step\n",
      "\u001b[1m1/1\u001b[0m \u001b[32m━━━━━━━━━━━━━━━━━━━━\u001b[0m\u001b[37m\u001b[0m \u001b[1m0s\u001b[0m 18ms/step\n",
      "\u001b[1m1/1\u001b[0m \u001b[32m━━━━━━━━━━━━━━━━━━━━\u001b[0m\u001b[37m\u001b[0m \u001b[1m0s\u001b[0m 18ms/step\n",
      "\u001b[1m1/1\u001b[0m \u001b[32m━━━━━━━━━━━━━━━━━━━━\u001b[0m\u001b[37m\u001b[0m \u001b[1m0s\u001b[0m 19ms/step\n"
     ]
    }
   ],
   "source": [
    "# Model Size (MB)\n",
    "model_size_mb = os.path.getsize('./best_model.keras') / (1024 * 1024)\n",
    "\n",
    "# Inference Time (ms) - Average over 100 runs\n",
    "inference_times = []\n",
    "for _ in range(100):\n",
    "    start = time()\n",
    "    model.predict(X_test[:1])  # Predict on a single sample\n",
    "    inference_times.append(time() - start)\n",
    "inference_time_ms = np.mean(inference_times) * 1000"
   ]
  },
  {
   "cell_type": "markdown",
   "id": "ab45b6d2",
   "metadata": {
    "papermill": {
     "duration": 1.273083,
     "end_time": "2024-07-29T16:28:52.597349",
     "exception": false,
     "start_time": "2024-07-29T16:28:51.324266",
     "status": "completed"
    },
    "tags": []
   },
   "source": [
    "Per class metrics and confusion matrix"
   ]
  },
  {
   "cell_type": "code",
   "execution_count": 24,
   "id": "56cb3dfb",
   "metadata": {
    "execution": {
     "iopub.execute_input": "2024-07-29T16:28:55.081909Z",
     "iopub.status.busy": "2024-07-29T16:28:55.081539Z",
     "iopub.status.idle": "2024-07-29T16:28:55.591478Z",
     "shell.execute_reply": "2024-07-29T16:28:55.590523Z"
    },
    "papermill": {
     "duration": 1.724981,
     "end_time": "2024-07-29T16:28:55.593677",
     "exception": false,
     "start_time": "2024-07-29T16:28:53.868696",
     "status": "completed"
    },
    "tags": []
   },
   "outputs": [
    {
     "data": {
      "image/png": "[encoded data removed]",
      "text/plain": [
       "<Figure size 640x480 with 2 Axes>"
      ]
     },
     "metadata": {},
     "output_type": "display_data"
    }
   ],
   "source": [
    "class_names = classes\n",
    "\n",
    "# Per-Class Metrics\n",
    "class_report = classification_report(y_test, y_pred, target_names=class_names, output_dict=True)\n",
    "\n",
    "# Confusion Matrix\n",
    "conf_matrix = confusion_matrix(y_test, y_pred)\n",
    "\n",
    "# Plot Confusion Matrix\n",
    "# plt.figure(figsize=(8, 6))\n",
    "sns.heatmap(conf_matrix, annot=True, fmt='d', cmap='Blues', xticklabels=class_names, yticklabels=class_names)\n",
    "plt.title('Confusion Matrix')\n",
    "plt.xlabel('Predicted')\n",
    "plt.ylabel('True')\n",
    "plt.savefig('multiclass_confusion_matrix.png')\n",
    "plt.show()"
   ]
  },
  {
   "cell_type": "code",
   "execution_count": 25,
   "id": "be107436",
   "metadata": {
    "execution": {
     "iopub.execute_input": "2024-07-29T16:28:58.141792Z",
     "iopub.status.busy": "2024-07-29T16:28:58.140819Z",
     "iopub.status.idle": "2024-07-29T16:28:58.154218Z",
     "shell.execute_reply": "2024-07-29T16:28:58.153359Z"
    },
    "papermill": {
     "duration": 1.268044,
     "end_time": "2024-07-29T16:28:58.156216",
     "exception": false,
     "start_time": "2024-07-29T16:28:56.888172",
     "status": "completed"
    },
    "tags": []
   },
   "outputs": [
    {
     "data": {
      "text/html": [
       "<div>\n",
       "<style scoped>\n",
       "    .dataframe tbody tr th:only-of-type {\n",
       "        vertical-align: middle;\n",
       "    }\n",
       "\n",
       "    .dataframe tbody tr th {\n",
       "        vertical-align: top;\n",
       "    }\n",
       "\n",
       "    .dataframe thead th {\n",
       "        text-align: right;\n",
       "    }\n",
       "</style>\n",
       "<table border=\"1\" class=\"dataframe\">\n",
       "  <thead>\n",
       "    <tr style=\"text-align: right;\">\n",
       "      <th></th>\n",
       "      <th>Test Accuracy</th>\n",
       "      <th>Test Loss</th>\n",
       "      <th>Overall Accuracy</th>\n",
       "      <th>Cohen's Kappa</th>\n",
       "      <th>Log Loss</th>\n",
       "      <th>Brier Score</th>\n",
       "    </tr>\n",
       "  </thead>\n",
       "  <tbody>\n",
       "    <tr>\n",
       "      <th>0</th>\n",
       "      <td>0.91875</td>\n",
       "      <td>0.202706</td>\n",
       "      <td>0.91875</td>\n",
       "      <td>0.891667</td>\n",
       "      <td>0.202706</td>\n",
       "      <td>0.030243</td>\n",
       "    </tr>\n",
       "  </tbody>\n",
       "</table>\n",
       "</div>"
      ],
      "text/plain": [
       "   Test Accuracy  Test Loss  Overall Accuracy  Cohen's Kappa  Log Loss  \\\n",
       "0        0.91875   0.202706           0.91875       0.891667  0.202706   \n",
       "\n",
       "   Brier Score  \n",
       "0     0.030243  "
      ]
     },
     "execution_count": 25,
     "metadata": {},
     "output_type": "execute_result"
    }
   ],
   "source": [
    "performance_overview = {\n",
    "    'Test Accuracy': test_acc,\n",
    "    'Test Loss': test_loss,\n",
    "    'Overall Accuracy': accuracy,\n",
    "    'Cohen\\'s Kappa': cohen_kappa,\n",
    "    'Log Loss': log_loss_value,\n",
    "    'Brier Score': brier_score\n",
    "}\n",
    "\n",
    "df_overview = pd.DataFrame([performance_overview])\n",
    "df_overview"
   ]
  },
  {
   "cell_type": "code",
   "execution_count": 26,
   "id": "ff9abb93",
   "metadata": {
    "execution": {
     "iopub.execute_input": "2024-07-29T16:29:00.648257Z",
     "iopub.status.busy": "2024-07-29T16:29:00.647565Z",
     "iopub.status.idle": "2024-07-29T16:29:00.661067Z",
     "shell.execute_reply": "2024-07-29T16:29:00.660171Z"
    },
    "papermill": {
     "duration": 1.240239,
     "end_time": "2024-07-29T16:29:00.663315",
     "exception": false,
     "start_time": "2024-07-29T16:28:59.423076",
     "status": "completed"
    },
    "tags": []
   },
   "outputs": [
    {
     "data": {
      "text/html": [
       "<div>\n",
       "<style scoped>\n",
       "    .dataframe tbody tr th:only-of-type {\n",
       "        vertical-align: middle;\n",
       "    }\n",
       "\n",
       "    .dataframe tbody tr th {\n",
       "        vertical-align: top;\n",
       "    }\n",
       "\n",
       "    .dataframe thead th {\n",
       "        text-align: right;\n",
       "    }\n",
       "</style>\n",
       "<table border=\"1\" class=\"dataframe\">\n",
       "  <thead>\n",
       "    <tr style=\"text-align: right;\">\n",
       "      <th></th>\n",
       "      <th>Precision (Macro)</th>\n",
       "      <th>Recall (Macro)</th>\n",
       "      <th>F1-score (Macro)</th>\n",
       "      <th>Precision (Weighted)</th>\n",
       "      <th>Recall (Weighted)</th>\n",
       "      <th>F1-score (Weighted)</th>\n",
       "      <th>ROC AUC (OvR, Macro)</th>\n",
       "    </tr>\n",
       "  </thead>\n",
       "  <tbody>\n",
       "    <tr>\n",
       "      <th>0</th>\n",
       "      <td>0.919895</td>\n",
       "      <td>0.91875</td>\n",
       "      <td>0.919204</td>\n",
       "      <td>0.919895</td>\n",
       "      <td>0.91875</td>\n",
       "      <td>0.919204</td>\n",
       "      <td>0.986815</td>\n",
       "    </tr>\n",
       "  </tbody>\n",
       "</table>\n",
       "</div>"
      ],
      "text/plain": [
       "   Precision (Macro)  Recall (Macro)  F1-score (Macro)  Precision (Weighted)  \\\n",
       "0           0.919895         0.91875          0.919204              0.919895   \n",
       "\n",
       "   Recall (Weighted)  F1-score (Weighted)  ROC AUC (OvR, Macro)  \n",
       "0            0.91875             0.919204              0.986815  "
      ]
     },
     "execution_count": 26,
     "metadata": {},
     "output_type": "execute_result"
    }
   ],
   "source": [
    "class_agnostic_metrics = {\n",
    "    'Precision (Macro)': precision_macro,\n",
    "    'Recall (Macro)': recall_macro,\n",
    "    'F1-score (Macro)': f1_macro,\n",
    "    'Precision (Weighted)': precision_weighted,\n",
    "    'Recall (Weighted)': recall_weighted,\n",
    "    'F1-score (Weighted)': f1_weighted,\n",
    "    'ROC AUC (OvR, Macro)': roc_auc_ovr\n",
    "}\n",
    "\n",
    "df_class_agnostic = pd.DataFrame([class_agnostic_metrics])\n",
    "df_class_agnostic"
   ]
  },
  {
   "cell_type": "code",
   "execution_count": 27,
   "id": "69d4a624",
   "metadata": {
    "execution": {
     "iopub.execute_input": "2024-07-29T16:29:03.296687Z",
     "iopub.status.busy": "2024-07-29T16:29:03.296054Z",
     "iopub.status.idle": "2024-07-29T16:29:03.318633Z",
     "shell.execute_reply": "2024-07-29T16:29:03.317662Z"
    },
    "papermill": {
     "duration": 1.303658,
     "end_time": "2024-07-29T16:29:03.320655",
     "exception": false,
     "start_time": "2024-07-29T16:29:02.016997",
     "status": "completed"
    },
    "tags": []
   },
   "outputs": [
    {
     "data": {
      "text/html": [
       "<div>\n",
       "<style scoped>\n",
       "    .dataframe tbody tr th:only-of-type {\n",
       "        vertical-align: middle;\n",
       "    }\n",
       "\n",
       "    .dataframe tbody tr th {\n",
       "        vertical-align: top;\n",
       "    }\n",
       "\n",
       "    .dataframe thead th {\n",
       "        text-align: right;\n",
       "    }\n",
       "</style>\n",
       "<table border=\"1\" class=\"dataframe\">\n",
       "  <thead>\n",
       "    <tr style=\"text-align: right;\">\n",
       "      <th></th>\n",
       "      <th>Precision (Class 0)</th>\n",
       "      <th>Recall (Class 0)</th>\n",
       "      <th>F1-score (Class 0)</th>\n",
       "      <th>Support (Class 0)</th>\n",
       "      <th>True Positives (Class 0)</th>\n",
       "      <th>Precision (Class 1)</th>\n",
       "      <th>Recall (Class 1)</th>\n",
       "      <th>F1-score (Class 1)</th>\n",
       "      <th>Support (Class 1)</th>\n",
       "      <th>True Positives (Class 1)</th>\n",
       "      <th>Precision (Class 2)</th>\n",
       "      <th>Recall (Class 2)</th>\n",
       "      <th>F1-score (Class 2)</th>\n",
       "      <th>Support (Class 2)</th>\n",
       "      <th>True Positives (Class 2)</th>\n",
       "      <th>Precision (Class 3)</th>\n",
       "      <th>Recall (Class 3)</th>\n",
       "      <th>F1-score (Class 3)</th>\n",
       "      <th>Support (Class 3)</th>\n",
       "      <th>True Positives (Class 3)</th>\n",
       "    </tr>\n",
       "  </thead>\n",
       "  <tbody>\n",
       "    <tr>\n",
       "      <th>0</th>\n",
       "      <td>0.969072</td>\n",
       "      <td>0.94</td>\n",
       "      <td>0.954315</td>\n",
       "      <td>200</td>\n",
       "      <td>188</td>\n",
       "      <td>1.0</td>\n",
       "      <td>1.0</td>\n",
       "      <td>1.0</td>\n",
       "      <td>200</td>\n",
       "      <td>200</td>\n",
       "      <td>0.884422</td>\n",
       "      <td>0.88</td>\n",
       "      <td>0.882206</td>\n",
       "      <td>200</td>\n",
       "      <td>176</td>\n",
       "      <td>0.826087</td>\n",
       "      <td>0.855</td>\n",
       "      <td>0.840295</td>\n",
       "      <td>200</td>\n",
       "      <td>171</td>\n",
       "    </tr>\n",
       "  </tbody>\n",
       "</table>\n",
       "</div>"
      ],
      "text/plain": [
       "   Precision (Class 0)  Recall (Class 0)  F1-score (Class 0)  \\\n",
       "0             0.969072              0.94            0.954315   \n",
       "\n",
       "   Support (Class 0)  True Positives (Class 0)  Precision (Class 1)  \\\n",
       "0                200                       188                  1.0   \n",
       "\n",
       "   Recall (Class 1)  F1-score (Class 1)  Support (Class 1)  \\\n",
       "0               1.0                 1.0                200   \n",
       "\n",
       "   True Positives (Class 1)  Precision (Class 2)  Recall (Class 2)  \\\n",
       "0                       200             0.884422              0.88   \n",
       "\n",
       "   F1-score (Class 2)  Support (Class 2)  True Positives (Class 2)  \\\n",
       "0            0.882206                200                       176   \n",
       "\n",
       "   Precision (Class 3)  Recall (Class 3)  F1-score (Class 3)  \\\n",
       "0             0.826087             0.855            0.840295   \n",
       "\n",
       "   Support (Class 3)  True Positives (Class 3)  \n",
       "0                200                       171  "
      ]
     },
     "execution_count": 27,
     "metadata": {},
     "output_type": "execute_result"
    }
   ],
   "source": [
    "\n",
    "# 5. Per-Class Metrics\n",
    "per_class_metrics = {}\n",
    "for i, class_name in enumerate(class_report.keys()):\n",
    "    if class_name not in ['accuracy', 'macro avg', 'weighted avg']:\n",
    "        class_dict = {\n",
    "            f'Precision (Class {i})': class_report[class_name]['precision'],\n",
    "            f'Recall (Class {i})': class_report[class_name]['recall'],\n",
    "            f'F1-score (Class {i})': class_report[class_name]['f1-score'],\n",
    "            f'Support (Class {i})': class_report[class_name]['support'],\n",
    "            f'True Positives (Class {i})': conf_matrix[i, i]\n",
    "        }\n",
    "        per_class_metrics.update(class_dict)\n",
    "\n",
    "df_per_class = pd.DataFrame([per_class_metrics])\n",
    "df_per_class"
   ]
  },
  {
   "cell_type": "code",
   "execution_count": 28,
   "id": "29140eef",
   "metadata": {
    "execution": {
     "iopub.execute_input": "2024-07-29T16:29:05.894830Z",
     "iopub.status.busy": "2024-07-29T16:29:05.894107Z",
     "iopub.status.idle": "2024-07-29T16:29:05.908449Z",
     "shell.execute_reply": "2024-07-29T16:29:05.907567Z"
    },
    "papermill": {
     "duration": 1.289743,
     "end_time": "2024-07-29T16:29:05.910722",
     "exception": false,
     "start_time": "2024-07-29T16:29:04.620979",
     "status": "completed"
    },
    "tags": []
   },
   "outputs": [
    {
     "data": {
      "text/html": [
       "<div>\n",
       "<style scoped>\n",
       "    .dataframe tbody tr th:only-of-type {\n",
       "        vertical-align: middle;\n",
       "    }\n",
       "\n",
       "    .dataframe tbody tr th {\n",
       "        vertical-align: top;\n",
       "    }\n",
       "\n",
       "    .dataframe thead th {\n",
       "        text-align: right;\n",
       "    }\n",
       "</style>\n",
       "<table border=\"1\" class=\"dataframe\">\n",
       "  <thead>\n",
       "    <tr style=\"text-align: right;\">\n",
       "      <th></th>\n",
       "      <th>Misclassified as Class 1 (from Class 0)</th>\n",
       "      <th>Misclassified as Class 2 (from Class 0)</th>\n",
       "      <th>Misclassified as Class 3 (from Class 0)</th>\n",
       "      <th>Misclassified as Class 0 (from Class 1)</th>\n",
       "      <th>Misclassified as Class 2 (from Class 1)</th>\n",
       "      <th>Misclassified as Class 3 (from Class 1)</th>\n",
       "      <th>Misclassified as Class 0 (from Class 2)</th>\n",
       "      <th>Misclassified as Class 1 (from Class 2)</th>\n",
       "      <th>Misclassified as Class 3 (from Class 2)</th>\n",
       "      <th>Misclassified as Class 0 (from Class 3)</th>\n",
       "      <th>Misclassified as Class 1 (from Class 3)</th>\n",
       "      <th>Misclassified as Class 2 (from Class 3)</th>\n",
       "    </tr>\n",
       "  </thead>\n",
       "  <tbody>\n",
       "    <tr>\n",
       "      <th>0</th>\n",
       "      <td>0</td>\n",
       "      <td>0</td>\n",
       "      <td>12</td>\n",
       "      <td>0</td>\n",
       "      <td>0</td>\n",
       "      <td>0</td>\n",
       "      <td>0</td>\n",
       "      <td>0</td>\n",
       "      <td>24</td>\n",
       "      <td>6</td>\n",
       "      <td>0</td>\n",
       "      <td>23</td>\n",
       "    </tr>\n",
       "  </tbody>\n",
       "</table>\n",
       "</div>"
      ],
      "text/plain": [
       "   Misclassified as Class 1 (from Class 0)  \\\n",
       "0                                        0   \n",
       "\n",
       "   Misclassified as Class 2 (from Class 0)  \\\n",
       "0                                        0   \n",
       "\n",
       "   Misclassified as Class 3 (from Class 0)  \\\n",
       "0                                       12   \n",
       "\n",
       "   Misclassified as Class 0 (from Class 1)  \\\n",
       "0                                        0   \n",
       "\n",
       "   Misclassified as Class 2 (from Class 1)  \\\n",
       "0                                        0   \n",
       "\n",
       "   Misclassified as Class 3 (from Class 1)  \\\n",
       "0                                        0   \n",
       "\n",
       "   Misclassified as Class 0 (from Class 2)  \\\n",
       "0                                        0   \n",
       "\n",
       "   Misclassified as Class 1 (from Class 2)  \\\n",
       "0                                        0   \n",
       "\n",
       "   Misclassified as Class 3 (from Class 2)  \\\n",
       "0                                       24   \n",
       "\n",
       "   Misclassified as Class 0 (from Class 3)  \\\n",
       "0                                        6   \n",
       "\n",
       "   Misclassified as Class 1 (from Class 3)  \\\n",
       "0                                        0   \n",
       "\n",
       "   Misclassified as Class 2 (from Class 3)  \n",
       "0                                       23  "
      ]
     },
     "execution_count": 28,
     "metadata": {},
     "output_type": "execute_result"
    }
   ],
   "source": [
    "# 6. Confusion Matrix Insights\n",
    "confusion_matrix_insights = {}\n",
    "for i in range(n_classes):\n",
    "    for j in range(n_classes):\n",
    "        if j != i:\n",
    "            confusion_matrix_insights[f'Misclassified as Class {j} (from Class {i})'] = conf_matrix[i, j]\n",
    "\n",
    "            \n",
    "\n",
    "df_confusion = pd.DataFrame([confusion_matrix_insights])\n",
    "df_confusion"
   ]
  },
  {
   "cell_type": "code",
   "execution_count": 29,
   "id": "75ef7902",
   "metadata": {
    "execution": {
     "iopub.execute_input": "2024-07-29T16:29:08.557591Z",
     "iopub.status.busy": "2024-07-29T16:29:08.557020Z",
     "iopub.status.idle": "2024-07-29T16:29:08.568745Z",
     "shell.execute_reply": "2024-07-29T16:29:08.567849Z"
    },
    "papermill": {
     "duration": 1.387538,
     "end_time": "2024-07-29T16:29:08.571175",
     "exception": false,
     "start_time": "2024-07-29T16:29:07.183637",
     "status": "completed"
    },
    "tags": []
   },
   "outputs": [
    {
     "data": {
      "text/html": [
       "<div>\n",
       "<style scoped>\n",
       "    .dataframe tbody tr th:only-of-type {\n",
       "        vertical-align: middle;\n",
       "    }\n",
       "\n",
       "    .dataframe tbody tr th {\n",
       "        vertical-align: top;\n",
       "    }\n",
       "\n",
       "    .dataframe thead th {\n",
       "        text-align: right;\n",
       "    }\n",
       "</style>\n",
       "<table border=\"1\" class=\"dataframe\">\n",
       "  <thead>\n",
       "    <tr style=\"text-align: right;\">\n",
       "      <th></th>\n",
       "      <th>Model Size (MB)</th>\n",
       "      <th>Inference Time (ms)</th>\n",
       "    </tr>\n",
       "  </thead>\n",
       "  <tbody>\n",
       "    <tr>\n",
       "      <th>0</th>\n",
       "      <td>174.526426</td>\n",
       "      <td>96.749938</td>\n",
       "    </tr>\n",
       "  </tbody>\n",
       "</table>\n",
       "</div>"
      ],
      "text/plain": [
       "   Model Size (MB)  Inference Time (ms)\n",
       "0       174.526426            96.749938"
      ]
     },
     "execution_count": 29,
     "metadata": {},
     "output_type": "execute_result"
    }
   ],
   "source": [
    "deployment_metrics = {\n",
    "    'Model Size (MB)': model_size_mb,\n",
    "    'Inference Time (ms)': inference_time_ms\n",
    "}\n",
    "\n",
    "df_deployment = pd.DataFrame([deployment_metrics])\n",
    "df_deployment"
   ]
  },
  {
   "cell_type": "code",
   "execution_count": 30,
   "id": "ffffe323",
   "metadata": {
    "execution": {
     "iopub.execute_input": "2024-07-29T16:29:11.133977Z",
     "iopub.status.busy": "2024-07-29T16:29:11.133211Z",
     "iopub.status.idle": "2024-07-29T16:29:11.146461Z",
     "shell.execute_reply": "2024-07-29T16:29:11.145536Z"
    },
    "papermill": {
     "duration": 1.287676,
     "end_time": "2024-07-29T16:29:11.148905",
     "exception": false,
     "start_time": "2024-07-29T16:29:09.861229",
     "status": "completed"
    },
    "tags": []
   },
   "outputs": [
    {
     "data": {
      "text/html": [
       "<div>\n",
       "<style scoped>\n",
       "    .dataframe tbody tr th:only-of-type {\n",
       "        vertical-align: middle;\n",
       "    }\n",
       "\n",
       "    .dataframe tbody tr th {\n",
       "        vertical-align: top;\n",
       "    }\n",
       "\n",
       "    .dataframe thead th {\n",
       "        text-align: right;\n",
       "    }\n",
       "</style>\n",
       "<table border=\"1\" class=\"dataframe\">\n",
       "  <thead>\n",
       "    <tr style=\"text-align: right;\">\n",
       "      <th></th>\n",
       "      <th>Avg Misclassification Rate (MildDemented)</th>\n",
       "      <th>Avg Misclassification Rate (ModerateDemented)</th>\n",
       "      <th>Avg Misclassification Rate (NonDemented)</th>\n",
       "      <th>Avg Misclassification Rate (VeryMildDemented)</th>\n",
       "    </tr>\n",
       "  </thead>\n",
       "  <tbody>\n",
       "    <tr>\n",
       "      <th>0</th>\n",
       "      <td>0.06</td>\n",
       "      <td>0.0</td>\n",
       "      <td>0.12</td>\n",
       "      <td>0.145</td>\n",
       "    </tr>\n",
       "  </tbody>\n",
       "</table>\n",
       "</div>"
      ],
      "text/plain": [
       "   Avg Misclassification Rate (MildDemented)  \\\n",
       "0                                       0.06   \n",
       "\n",
       "   Avg Misclassification Rate (ModerateDemented)  \\\n",
       "0                                            0.0   \n",
       "\n",
       "   Avg Misclassification Rate (NonDemented)  \\\n",
       "0                                      0.12   \n",
       "\n",
       "   Avg Misclassification Rate (VeryMildDemented)  \n",
       "0                                          0.145  "
      ]
     },
     "execution_count": 30,
     "metadata": {},
     "output_type": "execute_result"
    }
   ],
   "source": [
    "# Assuming class names are based on the order of the folders\n",
    "class_names = classes\n",
    "n_classes = len(class_names)\n",
    "\n",
    "\n",
    "avg_misclassification = {}\n",
    "for i in range(n_classes):\n",
    "    misclassified = sum(conf_matrix[i][j] for j in range(n_classes) if j != i)\n",
    "    total = sum(conf_matrix[i])\n",
    "    class_name = class_names[i]\n",
    "    avg_misclassification[f'Avg Misclassification Rate ({class_name})'] = misclassified / total\n",
    "\n",
    "df_misclassification = pd.DataFrame([avg_misclassification])\n",
    "df_misclassification"
   ]
  },
  {
   "cell_type": "code",
   "execution_count": 31,
   "id": "a2457a46",
   "metadata": {
    "execution": {
     "iopub.execute_input": "2024-07-29T16:29:13.690279Z",
     "iopub.status.busy": "2024-07-29T16:29:13.689371Z",
     "iopub.status.idle": "2024-07-29T16:29:13.714999Z",
     "shell.execute_reply": "2024-07-29T16:29:13.714078Z"
    },
    "papermill": {
     "duration": 1.359527,
     "end_time": "2024-07-29T16:29:13.717080",
     "exception": false,
     "start_time": "2024-07-29T16:29:12.357553",
     "status": "completed"
    },
    "tags": []
   },
   "outputs": [
    {
     "data": {
      "text/html": [
       "<div>\n",
       "<style scoped>\n",
       "    .dataframe tbody tr th:only-of-type {\n",
       "        vertical-align: middle;\n",
       "    }\n",
       "\n",
       "    .dataframe tbody tr th {\n",
       "        vertical-align: top;\n",
       "    }\n",
       "\n",
       "    .dataframe thead th {\n",
       "        text-align: right;\n",
       "    }\n",
       "</style>\n",
       "<table border=\"1\" class=\"dataframe\">\n",
       "  <thead>\n",
       "    <tr style=\"text-align: right;\">\n",
       "      <th></th>\n",
       "      <th>Model Name</th>\n",
       "      <th>Number of Layers</th>\n",
       "      <th>Trainable Parameters</th>\n",
       "      <th>Non-Trainable Parameters</th>\n",
       "      <th>Activation Functions</th>\n",
       "      <th>Optimizer</th>\n",
       "      <th>Loss Function</th>\n",
       "      <th>Final Epoch</th>\n",
       "      <th>Training Time (minutes)</th>\n",
       "      <th>Test Accuracy</th>\n",
       "      <th>...</th>\n",
       "      <th>Recall (Class 3)</th>\n",
       "      <th>F1-score (Class 3)</th>\n",
       "      <th>Support (Class 3)</th>\n",
       "      <th>True Positives (Class 3)</th>\n",
       "      <th>Model Size (MB)</th>\n",
       "      <th>Inference Time (ms)</th>\n",
       "      <th>Avg Misclassification Rate (MildDemented)</th>\n",
       "      <th>Avg Misclassification Rate (ModerateDemented)</th>\n",
       "      <th>Avg Misclassification Rate (NonDemented)</th>\n",
       "      <th>Avg Misclassification Rate (VeryMildDemented)</th>\n",
       "    </tr>\n",
       "  </thead>\n",
       "  <tbody>\n",
       "    <tr>\n",
       "      <th>0</th>\n",
       "      <td>VGG16</td>\n",
       "      <td>27</td>\n",
       "      <td>15240468</td>\n",
       "      <td>160</td>\n",
       "      <td>Softmax</td>\n",
       "      <td>Adam</td>\n",
       "      <td>Categorical Crossentropy</td>\n",
       "      <td>69</td>\n",
       "      <td>41.95904</td>\n",
       "      <td>0.91875</td>\n",
       "      <td>...</td>\n",
       "      <td>0.855</td>\n",
       "      <td>0.840295</td>\n",
       "      <td>200</td>\n",
       "      <td>171</td>\n",
       "      <td>174.526426</td>\n",
       "      <td>96.749938</td>\n",
       "      <td>0.06</td>\n",
       "      <td>0.0</td>\n",
       "      <td>0.12</td>\n",
       "      <td>0.145</td>\n",
       "    </tr>\n",
       "  </tbody>\n",
       "</table>\n",
       "<p>1 rows × 48 columns</p>\n",
       "</div>"
      ],
      "text/plain": [
       "  Model Name  Number of Layers  Trainable Parameters  \\\n",
       "0      VGG16                27              15240468   \n",
       "\n",
       "   Non-Trainable Parameters Activation Functions Optimizer  \\\n",
       "0                       160              Softmax      Adam   \n",
       "\n",
       "              Loss Function  Final Epoch  Training Time (minutes)  \\\n",
       "0  Categorical Crossentropy           69                 41.95904   \n",
       "\n",
       "   Test Accuracy  ...  Recall (Class 3)  F1-score (Class 3)  \\\n",
       "0        0.91875  ...             0.855            0.840295   \n",
       "\n",
       "   Support (Class 3)  True Positives (Class 3)  Model Size (MB)  \\\n",
       "0                200                       171       174.526426   \n",
       "\n",
       "   Inference Time (ms)  Avg Misclassification Rate (MildDemented)  \\\n",
       "0            96.749938                                       0.06   \n",
       "\n",
       "   Avg Misclassification Rate (ModerateDemented)  \\\n",
       "0                                            0.0   \n",
       "\n",
       "   Avg Misclassification Rate (NonDemented)  \\\n",
       "0                                      0.12   \n",
       "\n",
       "   Avg Misclassification Rate (VeryMildDemented)  \n",
       "0                                          0.145  \n",
       "\n",
       "[1 rows x 48 columns]"
      ]
     },
     "execution_count": 31,
     "metadata": {},
     "output_type": "execute_result"
    }
   ],
   "source": [
    "\n",
    "# Merge all DataFrames\n",
    "final_df = pd.concat([\n",
    "    df_architecture,\n",
    "    df_training,\n",
    "    df_overview,\n",
    "    df_class_agnostic,\n",
    "    df_per_class, \n",
    "#     df_confusion,\n",
    "    df_deployment,\n",
    "    df_misclassification\n",
    "], axis=1)\n",
    "\n",
    "# Save the final DataFrame to a CSV file\n",
    "final_df.to_csv('segmented_multiclass_metrics.csv', index=False)\n",
    "\n",
    "final_df"
   ]
  },
  {
   "cell_type": "markdown",
   "id": "d89b1cf6",
   "metadata": {
    "papermill": {
     "duration": 1.216833,
     "end_time": "2024-07-29T16:29:16.207871",
     "exception": false,
     "start_time": "2024-07-29T16:29:14.991038",
     "status": "completed"
    },
    "tags": []
   },
   "source": [
    "Training Informations"
   ]
  },
  {
   "cell_type": "code",
   "execution_count": 32,
   "id": "8bfaa92f",
   "metadata": {
    "execution": {
     "iopub.execute_input": "2024-07-29T16:29:18.727097Z",
     "iopub.status.busy": "2024-07-29T16:29:18.726674Z",
     "iopub.status.idle": "2024-07-29T16:29:19.140432Z",
     "shell.execute_reply": "2024-07-29T16:29:19.139503Z"
    },
    "papermill": {
     "duration": 1.66638,
     "end_time": "2024-07-29T16:29:19.142362",
     "exception": false,
     "start_time": "2024-07-29T16:29:17.475982",
     "status": "completed"
    },
    "tags": []
   },
   "outputs": [
    {
     "data": {
      "image/png": "[encoded data removed]",
      "text/plain": [
       "<Figure size 1000x600 with 1 Axes>"
      ]
     },
     "metadata": {},
     "output_type": "display_data"
    }
   ],
   "source": [
    "# Binarize the output\n",
    "from sklearn.preprocessing import label_binarize\n",
    "y_test_bin = label_binarize(y_test, classes=[0, 1, 2, 3])\n",
    "\n",
    "# Visualization 2: ROC Curves (One-vs-Rest)\n",
    "plt.figure(figsize=(10, 6))\n",
    "for i in range(n_classes):\n",
    "    fpr, tpr, _ = roc_curve(y_test_bin[:, i], y_pred_probabilities[:, i])\n",
    "    roc_auc = auc(fpr, tpr)\n",
    "    plt.plot(fpr, tpr, lw=2, label=f'ROC curve ({class_names[i]}) (AUC = {roc_auc:.2f})')\n",
    "\n",
    "plt.plot([0, 1], [0, 1], color='navy', lw=2, linestyle='--')\n",
    "plt.xlim([0.0, 1.0])\n",
    "plt.ylim([0.0, 1.05])\n",
    "plt.xlabel('False Positive Rate')\n",
    "plt.ylabel('True Positive Rate')\n",
    "plt.title('Receiver Operating Characteristic (ROC) - One vs Rest')\n",
    "plt.legend(loc=\"lower right\")\n",
    "plt.savefig('multiclass_roc_curves.png')\n",
    "plt.show()"
   ]
  },
  {
   "cell_type": "code",
   "execution_count": 33,
   "id": "3a1979e6",
   "metadata": {
    "execution": {
     "iopub.execute_input": "2024-07-29T16:29:21.706759Z",
     "iopub.status.busy": "2024-07-29T16:29:21.706062Z",
     "iopub.status.idle": "2024-07-29T16:29:21.750706Z",
     "shell.execute_reply": "2024-07-29T16:29:21.749820Z"
    },
    "id": "XKofp5_0YLTD",
    "outputId": "8e23bcd7-49d4-4900-9c33-308478b3361b",
    "papermill": {
     "duration": 1.332683,
     "end_time": "2024-07-29T16:29:21.752652",
     "exception": false,
     "start_time": "2024-07-29T16:29:20.419969",
     "status": "completed"
    },
    "tags": []
   },
   "outputs": [
    {
     "data": {
      "text/html": [
       "<pre style=\"white-space:pre;overflow-x:auto;line-height:normal;font-family:Menlo,'DejaVu Sans Mono',consolas,'Courier New',monospace\"></pre>\n"
      ],
      "text/plain": []
     },
     "metadata": {},
     "output_type": "display_data"
    },
    {
     "data": {
      "text/html": [
       "<div>\n",
       "<style scoped>\n",
       "    .dataframe tbody tr th:only-of-type {\n",
       "        vertical-align: middle;\n",
       "    }\n",
       "\n",
       "    .dataframe tbody tr th {\n",
       "        vertical-align: top;\n",
       "    }\n",
       "\n",
       "    .dataframe thead th {\n",
       "        text-align: right;\n",
       "    }\n",
       "</style>\n",
       "<table border=\"1\" class=\"dataframe\">\n",
       "  <thead>\n",
       "    <tr style=\"text-align: right;\">\n",
       "      <th></th>\n",
       "      <th>accuracy</th>\n",
       "      <th>loss</th>\n",
       "      <th>val_accuracy</th>\n",
       "      <th>val_loss</th>\n",
       "      <th>learning_rate</th>\n",
       "    </tr>\n",
       "  </thead>\n",
       "  <tbody>\n",
       "    <tr>\n",
       "      <th>0</th>\n",
       "      <td>0.287500</td>\n",
       "      <td>1.538781</td>\n",
       "      <td>0.25000</td>\n",
       "      <td>21.673141</td>\n",
       "      <td>9.000000e-04</td>\n",
       "    </tr>\n",
       "    <tr>\n",
       "      <th>1</th>\n",
       "      <td>0.341719</td>\n",
       "      <td>1.370775</td>\n",
       "      <td>0.25000</td>\n",
       "      <td>8.390051</td>\n",
       "      <td>9.000000e-04</td>\n",
       "    </tr>\n",
       "    <tr>\n",
       "      <th>2</th>\n",
       "      <td>0.404219</td>\n",
       "      <td>1.279129</td>\n",
       "      <td>0.24875</td>\n",
       "      <td>2.791252</td>\n",
       "      <td>9.000000e-04</td>\n",
       "    </tr>\n",
       "    <tr>\n",
       "      <th>3</th>\n",
       "      <td>0.461719</td>\n",
       "      <td>1.168500</td>\n",
       "      <td>0.25000</td>\n",
       "      <td>3.888798</td>\n",
       "      <td>9.000000e-04</td>\n",
       "    </tr>\n",
       "    <tr>\n",
       "      <th>4</th>\n",
       "      <td>0.521875</td>\n",
       "      <td>1.034032</td>\n",
       "      <td>0.38250</td>\n",
       "      <td>2.077402</td>\n",
       "      <td>9.000000e-04</td>\n",
       "    </tr>\n",
       "    <tr>\n",
       "      <th>...</th>\n",
       "      <td>...</td>\n",
       "      <td>...</td>\n",
       "      <td>...</td>\n",
       "      <td>...</td>\n",
       "      <td>...</td>\n",
       "    </tr>\n",
       "    <tr>\n",
       "      <th>64</th>\n",
       "      <td>0.955625</td>\n",
       "      <td>0.135074</td>\n",
       "      <td>0.88625</td>\n",
       "      <td>0.299778</td>\n",
       "      <td>3.826376e-06</td>\n",
       "    </tr>\n",
       "    <tr>\n",
       "      <th>65</th>\n",
       "      <td>0.960156</td>\n",
       "      <td>0.119885</td>\n",
       "      <td>0.89750</td>\n",
       "      <td>0.286747</td>\n",
       "      <td>3.826376e-06</td>\n",
       "    </tr>\n",
       "    <tr>\n",
       "      <th>66</th>\n",
       "      <td>0.954844</td>\n",
       "      <td>0.134532</td>\n",
       "      <td>0.88500</td>\n",
       "      <td>0.293823</td>\n",
       "      <td>3.826376e-06</td>\n",
       "    </tr>\n",
       "    <tr>\n",
       "      <th>67</th>\n",
       "      <td>0.960625</td>\n",
       "      <td>0.125549</td>\n",
       "      <td>0.88750</td>\n",
       "      <td>0.293801</td>\n",
       "      <td>3.826376e-06</td>\n",
       "    </tr>\n",
       "    <tr>\n",
       "      <th>68</th>\n",
       "      <td>0.953594</td>\n",
       "      <td>0.130154</td>\n",
       "      <td>0.88625</td>\n",
       "      <td>0.290062</td>\n",
       "      <td>1.000000e-06</td>\n",
       "    </tr>\n",
       "  </tbody>\n",
       "</table>\n",
       "<p>69 rows × 5 columns</p>\n",
       "</div>"
      ],
      "text/plain": [
       "    accuracy      loss  val_accuracy   val_loss  learning_rate\n",
       "0   0.287500  1.538781       0.25000  21.673141   9.000000e-04\n",
       "1   0.341719  1.370775       0.25000   8.390051   9.000000e-04\n",
       "2   0.404219  1.279129       0.24875   2.791252   9.000000e-04\n",
       "3   0.461719  1.168500       0.25000   3.888798   9.000000e-04\n",
       "4   0.521875  1.034032       0.38250   2.077402   9.000000e-04\n",
       "..       ...       ...           ...        ...            ...\n",
       "64  0.955625  0.135074       0.88625   0.299778   3.826376e-06\n",
       "65  0.960156  0.119885       0.89750   0.286747   3.826376e-06\n",
       "66  0.954844  0.134532       0.88500   0.293823   3.826376e-06\n",
       "67  0.960625  0.125549       0.88750   0.293801   3.826376e-06\n",
       "68  0.953594  0.130154       0.88625   0.290062   1.000000e-06\n",
       "\n",
       "[69 rows x 5 columns]"
      ]
     },
     "execution_count": 33,
     "metadata": {},
     "output_type": "execute_result"
    }
   ],
   "source": [
    "\n",
    "# Optional: Save model summary and training history\n",
    "model.summary(print_fn=lambda x: open('model_summary.txt', 'a').write(x + '\\n'))\n",
    "\n",
    "# Assuming you have training history\n",
    "history_df = pd.DataFrame(history.history)\n",
    "history_df.to_csv('training_history.csv', index=False)\n",
    "history_df"
   ]
  },
  {
   "cell_type": "code",
   "execution_count": 34,
   "id": "dccad048",
   "metadata": {
    "execution": {
     "iopub.execute_input": "2024-07-29T16:29:24.328676Z",
     "iopub.status.busy": "2024-07-29T16:29:24.328316Z",
     "iopub.status.idle": "2024-07-29T16:29:24.878806Z",
     "shell.execute_reply": "2024-07-29T16:29:24.877963Z"
    },
    "id": "to3Y6aNwk2gO",
    "outputId": "7e3ea996-34f5-4087-967d-6ccc237f57c7",
    "papermill": {
     "duration": 1.839591,
     "end_time": "2024-07-29T16:29:24.881138",
     "exception": false,
     "start_time": "2024-07-29T16:29:23.041547",
     "status": "completed"
    },
    "tags": []
   },
   "outputs": [
    {
     "data": {
      "text/plain": [
       "<matplotlib.legend.Legend at 0x7f32d8bfe710>"
      ]
     },
     "execution_count": 34,
     "metadata": {},
     "output_type": "execute_result"
    },
    {
     "data": {
      "image/png": "[encoded data removed]",
      "text/plain": [
       "<Figure size 1200x600 with 2 Axes>"
      ]
     },
     "metadata": {},
     "output_type": "display_data"
    }
   ],
   "source": [
    "\n",
    "# Plot training history\n",
    "plt.figure(figsize=(12, 6))\n",
    "\n",
    "plt.subplot(1, 2, 1)\n",
    "plt.plot(history.history['loss'], label='Train Loss')\n",
    "plt.plot(history.history['val_loss'], label='Validation Loss')\n",
    "plt.title('Model Loss')\n",
    "plt.xlabel('Epoch')\n",
    "plt.ylabel('Loss')\n",
    "plt.legend()\n",
    "\n",
    "plt.subplot(1, 2, 2)\n",
    "plt.plot(history.history['accuracy'], label='Train Accuracy')\n",
    "plt.plot(history.history['val_accuracy'], label='Validation Accuracy')\n",
    "plt.title('Model Accuracy')\n",
    "plt.xlabel('Epoch')\n",
    "plt.ylabel('Accuracy')\n",
    "plt.legend()"
   ]
  },
  {
   "cell_type": "code",
   "execution_count": 35,
   "id": "910cc79c",
   "metadata": {
    "execution": {
     "iopub.execute_input": "2024-07-29T16:29:27.387669Z",
     "iopub.status.busy": "2024-07-29T16:29:27.387285Z",
     "iopub.status.idle": "2024-07-29T16:29:27.392378Z",
     "shell.execute_reply": "2024-07-29T16:29:27.391484Z"
    },
    "papermill": {
     "duration": 1.282577,
     "end_time": "2024-07-29T16:29:27.394274",
     "exception": false,
     "start_time": "2024-07-29T16:29:26.111697",
     "status": "completed"
    },
    "tags": []
   },
   "outputs": [],
   "source": [
    "# import os\n",
    "# import shutil\n",
    "# import zipfile\n",
    "\n",
    "# # Define the directory containing the files\n",
    "# source_directory = './'\n",
    "\n",
    "# # List of file extensions to include\n",
    "# file_extensions = ['.png', '.csv', '.txt','.keras']\n",
    "\n",
    "# # Create a new directory for the selected files\n",
    "# selected_directory = '/kaggle/working/SelectedFiles2/'\n",
    "# os.makedirs(selected_directory, exist_ok=True)\n",
    "\n",
    "# # Move the selected files into the new directory\n",
    "# for foldername, subfolders, filenames in os.walk(source_directory):\n",
    "#     for filename in filenames:\n",
    "#         if any(filename.endswith(ext) for ext in file_extensions):\n",
    "#             source_path = os.path.join(foldername, filename)\n",
    "#             destination_path = os.path.join(selected_directory, filename)\n",
    "#             shutil.move(source_path, destination_path)\n",
    "\n",
    "# # Create a ZipFile object\n",
    "# zip_filename = f\"{model_name}.zip\"\n",
    "# with zipfile.ZipFile(zip_filename, 'w') as zipf:\n",
    "#     # Add the selected directory and its contents to the zip file\n",
    "#     for foldername, _, filenames in os.walk(selected_directory):\n",
    "#         for filename in filenames:\n",
    "#             file_path = os.path.join(foldername, filename)\n",
    "#             zipf.write(file_path, os.path.relpath(file_path, selected_directory))\n",
    "\n",
    "# print(f'{zip_filename} created successfully.')"
   ]
  }
 ],
 "metadata": {
  "accelerator": "GPU",
  "colab": {
   "gpuType": "T4",
   "provenance": []
  },
  "kaggle": {
   "accelerator": "nvidiaTeslaT4",
   "dataSources": [
    {
     "databundleVersionId": 9230828,
     "datasetId": 5348457,
     "sourceId": 9059841,
     "sourceType": "datasetVersion"
    },
    {
     "databundleVersionId": 8733848,
     "datasetId": 5136508,
     "sourceId": 8587613,
     "sourceType": "datasetVersion"
    }
   ],
   "dockerImageVersionId": 30733,
   "isGpuEnabled": true,
   "isInternetEnabled": true,
   "language": "python",
   "sourceType": "notebook"
  },
  "kernelspec": {
   "display_name": "Python 3",
   "language": "python",
   "name": "python3"
  },
  "language_info": {
   "codemirror_mode": {
    "name": "ipython",
    "version": 3
   },
   "file_extension": ".py",
   "mimetype": "text/x-python",
   "name": "python",
   "nbconvert_exporter": "python",
   "pygments_lexer": "ipython3",
   "version": "3.10.13"
  },
  "papermill": {
   "default_parameters": {},
   "duration": 2761.125098,
   "end_time": "2024-07-29T16:29:31.575142",
   "environment_variables": {},
   "exception": null,
   "input_path": "__notebook__.ipynb",
   "output_path": "__notebook__.ipynb",
   "parameters": {},
   "start_time": "2024-07-29T15:43:30.450044",
   "version": "2.5.0"
  }
 },
 "nbformat": 4,
 "nbformat_minor": 5
}
